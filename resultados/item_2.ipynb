{
 "cells": [
  {
   "attachments": {},
   "cell_type": "markdown",
   "metadata": {},
   "source": [
    "# **Item 2**\n",
    "\n",
    "**Em muitas aplicações as funções $(f_1, f_2, f_3, f_4, f_5)$ não são conhecidas de forma explícita. Portanto a matriz Jacobiana precisa ser obtida de forma aproximada, por diferenças finitas.**"
   ]
  },
  {
   "cell_type": "code",
   "execution_count": 65,
   "metadata": {},
   "outputs": [],
   "source": [
    "R, R5, R6, R7, R8, R9, R10 = [10.0, 0.193, 4.10622e-4, 5.45177e-4, 4.4975e-7, 3.40735e-5, 9.615e-7]\n",
    "\n",
    "f1 = lambda x1, x2, x3, x4, x5: x1*x2+x1-3*x5\n",
    "f2 = lambda x1, x2, x3, x4, x5: 2*x1*x2+x1+3*R10*x2**2+x2*x3**2+R7*x2*x3+R9*x2*x4+R8*x2-R*x5\n",
    "f3 = lambda x1, x2, x3, x4, x5: 2*x2*x3**2 + R7*x2*x3+2*R5*x3**2+R6*x3-8*x5\n",
    "f4 = lambda x1, x2, x3, x4, x5: R9*x2*x4+2*x4**2 - 4*R*x5\n",
    "f5 = lambda x1, x2, x3, x4, x5: x1*x2+x1+R10*x2**2+x2*x3**2+R7*x2*x3+R9*x2*x4+R8*x2+R5*x3**2+R6*x3+x4**2-1\n",
    "F = [f1,f2,f3,f4,f5]\n",
    "\n",
    "x0 = [10,10,10,10,10] # ponto inicial\n",
    "\n",
    "sol = [0.003431, 31.325636, 0.068352, 0.859530, 0.036963] # solução\n",
    "\n",
    "Ds = [[0.0001, 100] for i in range(5)] # domínio de soluções"
   ]
  },
  {
   "cell_type": "code",
   "execution_count": 66,
   "metadata": {},
   "outputs": [],
   "source": [
    "Jac = [\n",
    "  [\n",
    "    lambda x1, x2, x3, x4, x5: x2 + 1,\n",
    "    lambda x1, x2, x3, x4, x5: x1,\n",
    "    lambda x1, x2, x3, x4, x5: 0,\n",
    "    lambda x1, x2, x3, x4, x5: 0,\n",
    "    lambda x1, x2, x3, x4, x5: -3\n",
    "  ],\n",
    "  [\n",
    "    lambda x1, x2, x3, x4, x5: 2*x2+1,\n",
    "    lambda x1, x2, x3, x4, x5: 2*x1+6*R10*x2+x3**2+R7*x3+R9*x4+R8,\n",
    "    lambda x1, x2, x3, x4, x5: 2*x2*x3 + R7*x2,\n",
    "    lambda x1, x2, x3, x4, x5: R9*x3,\n",
    "    lambda x1, x2, x3, x4, x5: -R\n",
    "  ],\n",
    "  [\n",
    "    lambda x1, x2, x3, x4, x5: 0,\n",
    "    lambda x1, x2, x3, x4, x5: 2*x3**2+R7*x3,\n",
    "    lambda x1, x2, x3, x4, x5: 4*x2*x3 + R7*x2 + 4*R5*x3 + R6,\n",
    "    lambda x1, x2, x3, x4, x5: 0,\n",
    "    lambda x1, x2, x3, x4, x5: -8\n",
    "  ],\n",
    "  [\n",
    "    lambda x1, x2, x3, x4, x5: 0,\n",
    "    lambda x1, x2, x3, x4, x5: R9*x4,\n",
    "    lambda x1, x2, x3, x4, x5: 0,\n",
    "    lambda x1, x2, x3, x4, x5: R9*x2 + 4*x4,\n",
    "    lambda x1, x2, x3, x4, x5: -4*R\n",
    "  ],\n",
    "  [\n",
    "    lambda x1, x2, x3, x4, x5: x2+1,\n",
    "    lambda x1, x2, x3, x4, x5: x1 + 2*R10*x2 + x3**2 + R7 * x3 + R9*x4 + R8,\n",
    "    lambda x1, x2, x3, x4, x5: 2*x3*x3 + R7*x2 + 2*R5*x3 + R6,\n",
    "    lambda x1, x2, x3, x4, x5: R9*x2 + 2*x4,\n",
    "    lambda x1, x2, x3, x4, x5: 0\n",
    "  ]\n",
    "]"
   ]
  },
  {
   "attachments": {},
   "cell_type": "markdown",
   "metadata": {},
   "source": [
    "## **a) Método de Newton**\n",
    "\n",
    "**Repita o problema anterior pelo método de Newton calculando a Jacobiana pelo método de diferenças finitas por expressões de 1ª e 2ª ordem. Para isso, é necessário definir um passo $h$. Explicite o passo utilizado e justifique sua escolha.**"
   ]
  },
  {
   "cell_type": "code",
   "execution_count": 67,
   "metadata": {},
   "outputs": [],
   "source": [
    "from auxiliares.diferenciacao import Diferenciacao\n",
    "from auxiliares.diferencasFinitas import DiferencasFinitas\n",
    "\n",
    "Dif = Diferenciacao(0,0)\n",
    "J = Dif.Jacobiana(Jac)\n",
    "x = Dif.ponto_matriz(x0)\n",
    "Jac_analitica = J(x)\n",
    "\n",
    "F_lista = Dif.funcoes_f(F)\n",
    "h = 1e-7"
   ]
  },
  {
   "attachments": {},
   "cell_type": "markdown",
   "metadata": {},
   "source": [
    "Como expressão de diferenças finitas de 1ª ordem será o usado o método por diferenças progressivas, e para 2ª ordem será o de diferenças centradas. O passo é $h=10^{-7}$."
   ]
  },
  {
   "cell_type": "code",
   "execution_count": 68,
   "metadata": {},
   "outputs": [],
   "source": [
    "from auxiliares.diferencasFinitas import DiferencasFinitas\n",
    "\n",
    "DF = DiferencasFinitas(h)\n",
    "progressivas, centradas = DF.progressivas, DF.centradas"
   ]
  },
  {
   "attachments": {},
   "cell_type": "markdown",
   "metadata": {},
   "source": [
    "Apliquemos o método com ambas as formas:"
   ]
  },
  {
   "cell_type": "code",
   "execution_count": 69,
   "metadata": {},
   "outputs": [],
   "source": [
    "from metodo_newton import Newton\n",
    "from numpy.linalg import solve\n",
    "from auxiliares.exibir import exibir_vetores\n",
    "\n",
    "newton_progressivas = Newton(F, solve, Ds, progressivas, h)\n",
    "newton_centradas = Newton(F, solve, Ds, centradas, h)\n",
    "\n",
    "qntd_maxima_passos = 500\n",
    "limitacao_float = True\n",
    "\n",
    "erro_maximo = 1e-10\n",
    "residuo_maximo=1e-10"
   ]
  },
  {
   "cell_type": "code",
   "execution_count": 70,
   "metadata": {},
   "outputs": [
    {
     "name": "stdout",
     "output_type": "stream",
     "text": [
      "Causa da parada: resíduo inferior ao erro admitido\n",
      "DIFERENÇAS PROGRESSIVAS\n",
      "   i |         x1 |       x2 |        x3 |       x4 |        x5 |    diferença |         erro |       resíduo\n",
      "-----+------------+----------+-----------+----------+-----------+--------------+--------------+---------------\n",
      "   1 | 0.0106479  |  9.99922 | 5.00102   | 5.03642  | 0.036458  |  9.98935     | 21.3264      | 509.558\n",
      "   2 | 0.0100115  | 10.0101  | 2.49921   | 2.59112  | 0.0367451 |  2.50182     | 21.3155      | 127.179\n",
      "   3 | 0.00998373 | 10.084   | 1.24338   | 1.43787  | 0.0368871 |  1.25582     | 21.2417      |  31.4886\n",
      "   4 | 0.0096892  | 10.4318  | 0.606359  | 0.975892 | 0.0369558 |  0.637023    | 20.8939      |   7.52091\n",
      "   5 | 0.00850591 | 11.8477  | 0.274174  | 0.866849 | 0.0369857 |  1.41595     | 19.4779      |   1.51624\n",
      "   6 | 0.00541646 | 16.7133  | 0.103992  | 0.860022 | 0.0369919 |  4.86561     | 14.6123      |   0.0707201\n",
      "   7 | 0.00292103 | 27.6408  | 0.0602819 | 0.859724 | 0.0369765 | 10.9275      |  3.6848      |   0.100986\n",
      "   8 | 0.00345584 | 31.717   | 0.069604  | 0.859516 | 0.0369616 |  4.07619     |  0.391394    |   0.0147292\n",
      "   9 | 0.00343022 | 31.3295  | 0.0683736 | 0.859529 | 0.0369624 |  0.387561    |  0.00383344  |   0.000228472\n",
      "  10 | 0.00343023 | 31.3265  | 0.0683504 | 0.859529 | 0.0369624 |  0.00297249  |  0.000860949 |   5.30131e-08\n",
      "  11 | 0.00343023 | 31.3265  | 0.0683504 | 0.859529 | 0.0369624 |  1.42648e-07 |  0.000860806 |   4.01901e-14\n"
     ]
    }
   ],
   "source": [
    "x_newton_prog, info_newton_prog = newton_progressivas.aplicar(x0, medir_tempo=True, qntd_maxima_passos=qntd_maxima_passos, erro_admitido=erro_maximo, residuo_admitido=residuo_maximo, solucao_exata=sol, adaptado=True)\n",
    "print('DIFERENÇAS PROGRESSIVAS')\n",
    "tabela = exibir_vetores(info_newton_prog)"
   ]
  },
  {
   "cell_type": "code",
   "execution_count": 74,
   "metadata": {},
   "outputs": [
    {
     "name": "stdout",
     "output_type": "stream",
     "text": [
      "> TEMPO TOTAL: 8.2724s\n",
      "> TEMPO TOTAL MÉDIO: 0.000752s\n",
      "> TEMPO TOTAL DP: 0.000212s\n",
      "> QNTD MÉDIA DE PASSOS: 11.0\n",
      "> PERCENTUAIS\n",
      "* jacobiana: 80.04%\n",
      "* Fx0: 10.34%\n",
      "* y: 4.78%\n",
      "* p: 4.84%\n"
     ]
    }
   ],
   "source": [
    "qntd_vezes = 1000\n",
    "params = [x0, [], erro_maximo, qntd_maxima_passos, [], -1, residuo_maximo, True, False, False, True]\n",
    "etapas = ['Jacobiana', '$F(x_0)$', '$y$', '$p$']\n",
    "newton_progressivas.bateria_testes_tempo(qntd_vezes, params, etapas)"
   ]
  },
  {
   "cell_type": "code",
   "execution_count": 72,
   "metadata": {},
   "outputs": [
    {
     "name": "stdout",
     "output_type": "stream",
     "text": [
      "Causa da parada: erro inferior ao erro admitido\n",
      "DIFERENÇAS CENTRADAS\n",
      "   i |         x1 |       x2 |        x3 |       x4 |        x5 |    diferença |         erro |       resíduo\n",
      "-----+------------+----------+-----------+----------+-----------+--------------+--------------+---------------\n",
      "   1 | 0.010648   |  9.99922 | 5.00102   | 5.03642  | 0.0364583 |  9.98935     | 21.3264      | 509.558\n",
      "   2 | 0.0100115  | 10.0101  | 2.49921   | 2.59112  | 0.0367451 |  2.50182     | 21.3155      | 127.179\n",
      "   3 | 0.00998373 | 10.084   | 1.24338   | 1.43787  | 0.0368871 |  1.25582     | 21.2417      |  31.4886\n",
      "   4 | 0.0096892  | 10.4318  | 0.606359  | 0.975892 | 0.0369558 |  0.637023    | 20.8939      |   7.52091\n",
      "   5 | 0.00850591 | 11.8477  | 0.274174  | 0.866849 | 0.0369857 |  1.41595     | 19.4779      |   1.51624\n",
      "   6 | 0.00541646 | 16.7133  | 0.103992  | 0.860022 | 0.0369919 |  4.8656      | 14.6123      |   0.0707198\n",
      "   7 | 0.00292103 | 27.6408  | 0.0602819 | 0.859724 | 0.0369765 | 10.9275      |  3.68481     |   0.100986\n",
      "   8 | 0.00345584 | 31.717   | 0.069604  | 0.859516 | 0.0369616 |  4.07621     |  0.391397    |   0.0147293\n",
      "   9 | 0.00343022 | 31.3295  | 0.0683736 | 0.859529 | 0.0369624 |  0.387564    |  0.00383377  |   0.000228467\n",
      "  10 | 0.00343023 | 31.3265  | 0.0683504 | 0.859529 | 0.0369624 |  0.00297283  |  0.000860943 |   5.28645e-08\n",
      "  11 | 0.00343023 | 31.3265  | 0.0683504 | 0.859529 | 0.0369624 |  1.37259e-07 |  0.000860806 |   2.498e-15\n",
      "  12 | 0.00343023 | 31.3265  | 0.0683504 | 0.859529 | 0.0369624 |  4.01457e-13 |  0.000860806 |   1.66533e-16\n"
     ]
    }
   ],
   "source": [
    "x_newton_cent, info_newton_cent = newton_centradas.aplicar(x0, medir_tempo=True, qntd_maxima_passos=qntd_maxima_passos, erro_admitido=1e-10, solucao_exata=sol, adaptado=True)\n",
    "print('DIFERENÇAS CENTRADAS')\n",
    "\n",
    "tabela = exibir_vetores(info_newton_cent)"
   ]
  },
  {
   "cell_type": "code",
   "execution_count": 75,
   "metadata": {},
   "outputs": [
    {
     "name": "stdout",
     "output_type": "stream",
     "text": [
      "> TEMPO TOTAL: 9.3236s\n",
      "> TEMPO TOTAL MÉDIO: 0.000848s\n",
      "> TEMPO TOTAL DP: 0.000333s\n",
      "> QNTD MÉDIA DE PASSOS: 11.0\n",
      "> PERCENTUAIS\n",
      "* jacobiana: 81.91%\n",
      "* Fx0: 9.41%\n",
      "* y: 4.31%\n",
      "* p: 4.37%\n"
     ]
    }
   ],
   "source": [
    "qntd_vezes = 1000\n",
    "params = [x0, [], erro_maximo, qntd_maxima_passos, [], -1, residuo_maximo, True, False, False, True]\n",
    "etapas = ['Jacobiana', '$F(x_0)$', '$y$', '$p$']\n",
    "newton_centradas.bateria_testes_tempo(qntd_vezes, params, etapas)"
   ]
  },
  {
   "cell_type": "code",
   "execution_count": 78,
   "metadata": {},
   "outputs": [
    {
     "name": "stdout",
     "output_type": "stream",
     "text": [
      "  i     centradas    progressivas\n",
      "---  ------------  --------------\n",
      "  1     0.0468662       0.0468662\n",
      "  2     0.0467517       0.0467517\n",
      "  3     0.0463064       0.0463064\n",
      "  4     0.0446175       0.0446175\n",
      "  5     0.0385154       0.0385154\n",
      "  6     0.0172575       0.0172575\n",
      "  7     0.0288262       0.0288262\n",
      "  8     0.0250259       0.0250242\n",
      "  9    58.5763         58.5867\n",
      " 10  1161.33         1161.32\n"
     ]
    }
   ],
   "source": [
    "from tabulate import tabulate\n",
    "erros_cent = info_newton_cent[\"erro real\"]\n",
    "erros_prog = info_newton_prog[\"erro real\"]\n",
    "tabela = []\n",
    "for i in range(1, info_newton_prog[\"passo\"], 1):\n",
    "  tabela.append([i, erros_cent[i]/(erros_cent[i-1]**2), erros_prog[i]/(erros_prog[i-1]**2)])\n",
    "print(tabulate(tabela, headers=[\"i\", \"centradas\", \"progressivas\"]))"
   ]
  },
  {
   "attachments": {},
   "cell_type": "markdown",
   "metadata": {},
   "source": [
    "E assim, nesse caso, $M \\approx 1161.703$, como no item 1."
   ]
  },
  {
   "attachments": {},
   "cell_type": "markdown",
   "metadata": {},
   "source": [
    "## **b) Método de Broyden**\n",
    "\n",
    "**Repita o problema usando o Método de Broyden (nesse caso, apenas a 1ª Jacobiana será aproximada).**"
   ]
  },
  {
   "attachments": {},
   "cell_type": "markdown",
   "metadata": {},
   "source": [
    "Partindo do mesmo ponto, com ambos os métodos, como na forma analítica, o método não converge."
   ]
  },
  {
   "cell_type": "code",
   "execution_count": null,
   "metadata": {},
   "outputs": [
    {
     "name": "stdout",
     "output_type": "stream",
     "text": [
      "Causa da parada: resíduo inferior ao erro admitido\n",
      "Menor diferença:  1.560423257274124e-08\n",
      "Menor resíduo:  9.488576591110132e-12\n",
      "Quantidade de passos:  56\n",
      "Causa da parada: resíduo inferior ao erro admitido\n",
      "Menor diferença:  1.547305217286521e-08\n",
      "Menor resíduo:  9.382106203048579e-12\n",
      "Quantidade de passos:  56\n"
     ]
    }
   ],
   "source": [
    "from metodo_broyden import Broyden # classe com o Método de Broyden\n",
    "\n",
    "broyden_prog = Broyden(F, Ds, progressivas, h)\n",
    "broyden_cent = Broyden(F, Ds, centradas, h)\n",
    "\n",
    "limitacao_float = True\n",
    "qntd_maxima_passos = 5000\n",
    "\n",
    "erro_maximo = 1e-10\n",
    "residuo_maximo = 1e-10\n",
    "\n",
    "x_broyden_prog, info_broyden_prog = broyden_prog.aplicar(p0=x0,medir_tempo=True, qntd_maxima_passos=qntd_maxima_passos, erro_admitido=erro_maximo, residuo_admitido=residuo_maximo, solucao_exata=sol, adaptado=True)\n",
    "print('Menor diferença: ', min(info_broyden_prog['erro']))\n",
    "print('Menor resíduo: ', min(info_broyden_prog['residuo']))\n",
    "print('Quantidade de passos: ', info_broyden_prog[\"passo\"])\n",
    "x_broyden_cent, info_broyden_cent = broyden_cent.aplicar(p0=x0,medir_tempo=True, qntd_maxima_passos=qntd_maxima_passos, erro_admitido=erro_maximo, residuo_admitido=residuo_maximo, solucao_exata=sol, adaptado=True)\n",
    "print('Menor diferença: ', min(info_broyden_cent['erro']))\n",
    "print('Menor resíduo: ', min(info_broyden_cent['residuo']))\n",
    "print('Quantidade de passos: ', info_broyden_cent[\"passo\"])"
   ]
  },
  {
   "attachments": {},
   "cell_type": "markdown",
   "metadata": {},
   "source": [
    "Podemos observar que não houve convergência também a partir da diferença entre a solução exata e os passos, que não é superlinear."
   ]
  },
  {
   "cell_type": "code",
   "execution_count": null,
   "metadata": {},
   "outputs": [
    {
     "data": {
      "image/png": "[encoded data removed]",
      "text/plain": [
       "<Figure size 640x480 with 1 Axes>"
      ]
     },
     "metadata": {},
     "output_type": "display_data"
    }
   ],
   "source": [
    "import matplotlib.pyplot as plt\n",
    "erros_prog = info_broyden_prog[\"erro real\"]\n",
    "razao_prog = []\n",
    "for i in range(0, info_broyden_prog[\"passo\"]):\n",
    "  razao_prog.append(erros_prog[i]/(erros_prog[i-1]))\n",
    "plt.plot(razao_prog, c=\"black\")\n",
    "plt.ylim([0,2])\n",
    "plt.show()"
   ]
  },
  {
   "cell_type": "code",
   "execution_count": null,
   "metadata": {},
   "outputs": [
    {
     "name": "stdout",
     "output_type": "stream",
     "text": [
      "   i |         x1 |       x2 |        x3 |       x4 |        x5 |    diferença |         erro |       resíduo\n",
      "-----+------------+----------+-----------+----------+-----------+--------------+--------------+---------------\n",
      "   1 | 0.0106479  |  9.99922 | 5.00102   | 5.03642  | 0.036458  |  9.98935     | 28.9165      | 509.558\n",
      "   2 | 0.00931055 |  9.99993 | 3.68549   | 3.74021  | 0.0366095 |  1.31554     | 22.2844      | 276.626\n",
      "   3 | 0.00812386 | 10.0029  | 2.12982   | 2.2212   | 0.0367878 |  1.55566     | 21.8213      |  92.218\n",
      "   4 | 0.00741543 | 10.0072  | 1.36875   | 1.49585  | 0.0368749 |  0.761076    | 21.4654      |  37.9325\n",
      "   5 | 0.0069251  | 10.0134  | 0.875839  | 1.04643  | 0.0369311 |  0.492909    | 21.3676      |  15.3682\n",
      "   6 | 0.00665182 | 10.0203  | 0.612067  | 0.827619 | 0.0369611 |  0.263773    | 21.3284      |   7.36023\n",
      "   7 | 0.00652289 | 10.0273  | 0.48486   | 0.743324 | 0.0369754 |  0.127207    | 21.3123      |   4.51239\n",
      "   8 | 0.00647631 | 10.0334  | 0.435246  | 0.729469 | 0.0369809 |  0.0496139   | 21.3028      |   3.58128\n",
      "   9 | 0.00645571 | 10.0399  | 0.409207  | 0.738336 | 0.0369836 |  0.0260388   | 21.2958      |   3.13354\n",
      "  10 | 0.00640532 | 10.0609  | 0.340977  | 0.776324 | 0.0369907 |  0.0682301   | 21.2888      |   2.09044\n",
      "  11 | 0.00570971 | 10.3208  | 0.340977  | 1.18625  | 0.0370772 |  0.409921    | 21.2666      |   2.15022\n",
      "  12 | 0.00642027 | 10.0447  | 0.371043  | 0.761017 | 0.0369876 |  0.425229    | 21.0092      |   2.5252\n",
      "  13 | 0.00644724 | 10.026   | 0.406402  | 0.744649 | 0.0369839 |  0.0353597   | 21.2833      |   3.08211\n",
      "  14 | 0.00629619 | 10.1651  | 0.161588  | 0.864489 | 0.0370091 |  0.244814    | 21.3027      |   0.245802\n",
      "  15 | 0.00509156 | 10.7253  | 0.161588  | 1.2575   | 0.037128  |  0.560246    | 21.1608      |   1.67797\n",
      "  16 | 0.00626164 | 10.0865  | 0.208328  | 0.819142 | 0.0370048 |  0.638849    | 20.6044      |   0.597461\n",
      "  17 | 0.0063332  | 10.036   | 0.26753   | 0.797541 | 0.0369986 |  0.0592018   | 21.2397      |   1.16981\n",
      "  18 | 0.0059947  | 10.3174  | 0.26753   | 0.906207 | 0.0370346 |  0.281447    | 21.2907      |   1.20985\n",
      "  19 | 0.00645993 |  9.71287 | 0.453176  | 0.716077 | 0.0369802 |  0.604566    | 21.0092      |   3.77546\n",
      "  20 | 0.00644495 | 13.6232  | 0.453176  | 1.69864  | 0.0371869 |  3.91037     | 21.6167      |   5.38091\n",
      "  21 | 0.00577999 |  8.84402 | 0.89427   | 0.602772 | 0.0369389 |  4.77922     | 17.7264      |  14.1633\n",
      "  22 | 0.00577999 |  8.84402 | 7.05877   | 0.602772 | 0.036394  |  6.1645      | 22.4982      | 900.307\n",
      "  23 | 0.00775678 |  9.43332 | 0.800498  | 0.747679 | 0.0369476 |  6.25827     | 23.5447      |  12.0459\n",
      "  24 | 0.00972236 |  9.71009 | 0.719367  | 0.816658 | 0.0369522 |  0.276776    | 21.9048      |   9.95798\n",
      "  25 | 0.010109   |  9.91452 | 0.595246  | 0.867306 | 0.0369629 |  0.204429    | 21.6254      |   6.87031\n",
      "  26 | 0.00916363 |  9.92449 | 0.528603  | 0.868084 | 0.0369703 |  0.0666432   | 21.4176      |   5.36139\n",
      "  27 | 0.00916363 | 10.301   | 0.528603  | 0.917888 | 0.0370834 |  0.376511    | 21.4061      |   5.57101\n",
      "  28 | 0.00746904 | 10.0539  | 0.330791  | 0.876294 | 0.0369909 |  0.247141    | 21.0298      |   1.9485\n",
      "  29 | 0.00692258 | 10.1304  | 0.230533  | 0.879096 | 0.0370015 |  0.100258    | 21.2734      |   0.802646\n",
      "  30 | 0.00610517 | 10.3304  | 0.0113674 | 0.883128 | 0.0370249 |  0.219166    | 21.1958      |   0.293411\n",
      "  31 | 0.00561024 | 10.6588  | 0.0113674 | 0.885791 | 0.0370609 |  0.328379    | 20.9953      |   0.293612\n",
      "  32 | 0.00521311 | 12.3765  | 0.0113674 | 0.884622 | 0.0370359 |  1.71768     | 20.667       |   0.292957\n",
      "  33 | 0.00262911 | 22.1651  | 0.0113674 | 0.871451 | 0.0370133 |  9.78866     | 18.9493      |   0.290186\n",
      "  34 | 0.0113751  | 22.1651  | 0.0113674 | 0.938205 | 0.0372493 |  0.0667541   |  9.16071     |   0.292074\n",
      "  35 | 0.00442654 | 11.7135  | 0.0113674 | 0.880101 | 0.0370364 | 10.4517      |  9.16104     |   0.293137\n",
      "  36 | 0.00263951 | 37.2763  | 0.0195684 | 0.863953 | 0.0369749 | 25.5628      | 19.6123      |   0.266697\n",
      "  37 | 0.00355797 | 36.0638  | 0.0271896 | 0.862998 | 0.0369612 |  1.21246     |  5.95085     |   0.241537\n",
      "  38 | 0.00394825 | 37.8529  | 0.023951  | 0.863709 | 0.0369575 |  1.7891      |  4.73838     |   0.251506\n",
      "  39 | 0.00307436 | 34.1117  | 0.0380152 | 0.861703 | 0.0369649 |  3.74125     |  6.52745     |   0.195846\n",
      "  40 | 0.00325321 | 33.8541  | 0.0449496 | 0.861516 | 0.0369629 |  0.25762     |  2.78621     |   0.157274\n",
      "  41 | 0.00320701 | 34.3059  | 0.0397873 | 0.86184  | 0.0369634 |  0.451861    |  2.52854     |   0.185722\n",
      "  42 | 0.00366259 | 28.635   | 0.0992122 | 0.857815 | 0.0369591 |  5.67094     |  2.98043     |   0.273428\n",
      "  43 | 0.00356053 | 31.4718  | 0.0680211 | 0.859326 | 0.0369623 |  2.83685     |  2.69083     |   0.00862608\n",
      "  44 | 0.00353767 | 30.5407  | 0.0754689 | 0.858688 | 0.0369625 |  0.931177    |  0.146192    |   0.0556775\n",
      "  45 | 0.00343223 | 30.7892  | 0.0722597 | 0.85903  | 0.0369628 |  0.248514    |  0.785018    |   0.0290842\n",
      "  46 | 0.00345902 | 30.2567  | 0.0765109 | 0.858524 | 0.0369631 |  0.532463    |  0.536486    |   0.0620889\n",
      "  47 | 0.00342443 | 31.4628  | 0.0672708 | 0.859669 | 0.0369624 |  1.2061      |  1.06897     |   0.00800932\n",
      "  48 | 0.00342978 | 31.3435  | 0.0682175 | 0.859543 | 0.0369624 |  0.119338    |  0.137169    |   0.000987588\n",
      "  49 | 0.00343008 | 31.3234  | 0.0683711 | 0.859526 | 0.0369624 |  0.0200696   |  0.0178269   |   0.000149826\n",
      "  50 | 0.00343016 | 31.3274  | 0.0683428 | 0.85953  | 0.0369624 |  0.00401221  |  0.00224331  |   5.67966e-05\n",
      "  51 | 0.00343021 | 31.3268  | 0.0683476 | 0.859529 | 0.0369624 |  0.000558084 |  0.00176901  |   2.05928e-05\n",
      "  52 | 0.00343024 | 31.3264  | 0.0683514 | 0.859529 | 0.0369624 |  0.000480442 |  0.00121091  |   7.75967e-06\n",
      "  53 | 0.00343023 | 31.3265  | 0.0683504 | 0.859529 | 0.0369624 |  0.000127584 |  0.00073046  |   1.69205e-07\n",
      "  54 | 0.00343023 | 31.3265  | 0.0683504 | 0.859529 | 0.0369624 |  2.58226e-06 |  0.000858045 |   1.14501e-08\n",
      "  55 | 0.00343023 | 31.3265  | 0.0683504 | 0.859529 | 0.0369624 |  1.65146e-07 |  0.000860628 |   1.0003e-09\n",
      "  56 | 0.00343023 | 31.3265  | 0.0683504 | 0.859529 | 0.0369624 |  1.56042e-08 |  0.000860793 |   9.48858e-12\n"
     ]
    }
   ],
   "source": [
    "tabela = exibir_vetores(info_broyden_prog)"
   ]
  },
  {
   "cell_type": "code",
   "execution_count": 79,
   "metadata": {},
   "outputs": [
    {
     "name": "stdout",
     "output_type": "stream",
     "text": [
      "> TEMPO TOTAL: 6.4267s\n",
      "> TEMPO TOTAL MÉDIO: 0.000115s\n",
      "> TEMPO TOTAL DP: 8.3e-05s\n",
      "> QNTD MÉDIA DE PASSOS: 56.0\n",
      "> PERCENTUAIS\n",
      "* y: 18.34%\n",
      "* p1: 5.59%\n",
      "* A_inv: 47.68%\n",
      "* z: 16.0%\n",
      "* p: 10.68%\n",
      "* s1t: 1.71%\n"
     ]
    }
   ],
   "source": [
    "qntd_vezes = 1000\n",
    "params = [x0, [], erro_maximo, qntd_maxima_passos, [], -1, residuo_maximo, True, False, False, True]\n",
    "broyden_prog.bateria_testes_tempo(qntd_vezes, params)"
   ]
  },
  {
   "cell_type": "code",
   "execution_count": null,
   "metadata": {},
   "outputs": [
    {
     "name": "stdout",
     "output_type": "stream",
     "text": [
      "   i |         x1 |       x2 |        x3 |       x4 |        x5 |    diferença |         erro |       resíduo\n",
      "-----+------------+----------+-----------+----------+-----------+--------------+--------------+---------------\n",
      "   1 | 0.010648   |  9.99922 | 5.00102   | 5.03642  | 0.0364583 |  9.98935     | 28.9165      | 509.558\n",
      "   2 | 0.00931056 |  9.99993 | 3.68549   | 3.74022  | 0.0366095 |  1.31554     | 22.2844      | 276.626\n",
      "   3 | 0.00812387 | 10.0029  | 2.12982   | 2.2212   | 0.0367878 |  1.55566     | 21.8213      |  92.218\n",
      "   4 | 0.00741543 | 10.0072  | 1.36875   | 1.49585  | 0.0368749 |  0.761076    | 21.4654      |  37.9325\n",
      "   5 | 0.00692511 | 10.0134  | 0.87584   | 1.04643  | 0.0369311 |  0.492909    | 21.3676      |  15.3682\n",
      "   6 | 0.00665183 | 10.0203  | 0.612067  | 0.827619 | 0.0369611 |  0.263773    | 21.3284      |   7.36024\n",
      "   7 | 0.0065229  | 10.0273  | 0.48486   | 0.743324 | 0.0369754 |  0.127207    | 21.3123      |   4.51239\n",
      "   8 | 0.00647632 | 10.0334  | 0.435246  | 0.729469 | 0.0369809 |  0.0496139   | 21.3028      |   3.58128\n",
      "   9 | 0.00645571 | 10.0399  | 0.409207  | 0.738336 | 0.0369836 |  0.0260388   | 21.2958      |   3.13354\n",
      "  10 | 0.00640533 | 10.0609  | 0.340977  | 0.776324 | 0.0369907 |  0.0682301   | 21.2888      |   2.09044\n",
      "  11 | 0.00570969 | 10.3208  | 0.340977  | 1.18625  | 0.0370772 |  0.409921    | 21.2666      |   2.15022\n",
      "  12 | 0.00642028 | 10.0447  | 0.371043  | 0.761017 | 0.0369876 |  0.425229    | 21.0092      |   2.5252\n",
      "  13 | 0.00644724 | 10.026   | 0.406403  | 0.744649 | 0.0369839 |  0.0353597   | 21.2833      |   3.08211\n",
      "  14 | 0.00629619 | 10.1651  | 0.161588  | 0.864489 | 0.0370091 |  0.244814    | 21.3027      |   0.245803\n",
      "  15 | 0.00509154 | 10.7253  | 0.161588  | 1.2575   | 0.037128  |  0.560243    | 21.1608      |   1.67797\n",
      "  16 | 0.00626165 | 10.0865  | 0.208328  | 0.819142 | 0.0370048 |  0.638846    | 20.6044      |   0.597462\n",
      "  17 | 0.0063332  | 10.036   | 0.26753   | 0.797541 | 0.0369986 |  0.0592019   | 21.2397      |   1.16981\n",
      "  18 | 0.0059947  | 10.3174  | 0.26753   | 0.906206 | 0.0370346 |  0.281446    | 21.2907      |   1.20985\n",
      "  19 | 0.00645994 |  9.71287 | 0.453178  | 0.716077 | 0.0369802 |  0.604566    | 21.0092      |   3.77548\n",
      "  20 | 0.00644491 | 13.623   | 0.453178  | 1.69859  | 0.0371868 |  3.91017     | 21.6167      |   5.38086\n",
      "  21 | 0.00577997 |  8.84399 | 0.894278  | 0.602765 | 0.0369389 |  4.77905     | 17.7266      |  14.1635\n",
      "  22 | 0.00577997 |  8.84399 | 7.06046   | 0.602765 | 0.0363939 |  6.16619     | 22.4983      | 900.736\n",
      "  23 | 0.00775681 |  9.4333  | 0.800525  | 0.747677 | 0.0369476 |  6.25994     | 23.5453      |  12.0467\n",
      "  24 | 0.00972259 |  9.71008 | 0.719408  | 0.816656 | 0.0369522 |  0.276776    | 21.9049      |   9.95911\n",
      "  25 | 0.0101095  |  9.91449 | 0.595306  | 0.867302 | 0.0369629 |  0.204413    | 21.6254      |   6.87173\n",
      "  26 | 0.00916418 |  9.92446 | 0.528669  | 0.86808  | 0.0369703 |  0.0666369   | 21.4176      |   5.36279\n",
      "  27 | 0.00916418 | 10.3011  | 0.528669  | 0.917909 | 0.0370835 |  0.376605    | 21.4061      |   5.57251\n",
      "  28 | 0.00746916 | 10.0538  | 0.330826  | 0.876293 | 0.0369909 |  0.247257    | 21.0297      |   1.94897\n",
      "  29 | 0.00692263 | 10.1303  | 0.23056   | 0.879095 | 0.0370015 |  0.100267    | 21.2735      |   0.802888\n",
      "  30 | 0.00610526 | 10.3302  | 0.0113997 | 0.883128 | 0.0370249 |  0.21916     | 21.1959      |   0.293396\n",
      "  31 | 0.00561049 | 10.6584  | 0.0113997 | 0.885791 | 0.0370609 |  0.328184    | 20.9955      |   0.293596\n",
      "  32 | 0.00521327 | 12.3758  | 0.0113997 | 0.884623 | 0.0370359 |  1.71737     | 20.6673      |   0.292939\n",
      "  33 | 0.00263067 | 22.1591  | 0.0113997 | 0.871458 | 0.0370133 |  9.78335     | 18.9499      |   0.290154\n",
      "  34 | 0.0114041  | 22.1591  | 0.0113997 | 0.938417 | 0.03725   |  0.0669597   |  9.16667     |   0.292048\n",
      "  35 | 0.0044278  | 11.7032  | 0.0113997 | 0.880108 | 0.0370365 | 10.4559      |  9.16701     |   0.293122\n",
      "  36 | 0.00263775 | 37.2687  | 0.0196009 | 0.86395  | 0.0369749 | 25.5654      | 19.6225      |   0.266607\n",
      "  37 | 0.00355934 | 36.0689  | 0.0272225 | 0.862999 | 0.0369612 |  1.19979     |  5.94324     |   0.241398\n",
      "  38 | 0.0039425  | 37.8276  | 0.0240531 | 0.863696 | 0.0369576 |  1.75875     |  4.74343     |   0.251161\n",
      "  39 | 0.00307443 | 34.109   | 0.0380426 | 0.861702 | 0.0369649 |  3.71868     |  6.50215     |   0.19571\n",
      "  40 | 0.00325335 | 33.8519  | 0.0449717 | 0.861515 | 0.0369629 |  0.257055    |  2.78349     |   0.157147\n",
      "  41 | 0.00320735 | 34.302   | 0.0398326 | 0.861837 | 0.0369634 |  0.450063    |  2.52638     |   0.185484\n",
      "  42 | 0.00366159 | 28.6469  | 0.0990642 | 0.857823 | 0.0369591 |  5.65502     |  2.97647     |   0.271969\n",
      "  43 | 0.00356012 | 31.4696  | 0.0680386 | 0.859326 | 0.0369623 |  2.82266     |  2.67887     |   0.00864861\n",
      "  44 | 0.0035371  | 30.5433  | 0.0754427 | 0.858692 | 0.0369625 |  0.92633     |  0.143969    |   0.0554645\n",
      "  45 | 0.00343223 | 30.7916  | 0.0722421 | 0.859032 | 0.0369628 |  0.2483      |  0.782394    |   0.028952\n",
      "  46 | 0.00345908 | 30.2566  | 0.0765123 | 0.858524 | 0.0369631 |  0.534947    |  0.534075    |   0.0621014\n",
      "  47 | 0.00342447 | 31.4618  | 0.0672789 | 0.859668 | 0.0369624 |  1.20517     |  1.06904     |   0.00794995\n",
      "  48 | 0.00342979 | 31.3433  | 0.0682187 | 0.859543 | 0.0369624 |  0.118477    |  0.136161    |   0.000978772\n",
      "  49 | 0.00343008 | 31.3234  | 0.0683711 | 0.859526 | 0.0369624 |  0.0199119   |  0.0176806   |   0.000149399\n",
      "  50 | 0.00343016 | 31.3274  | 0.0683429 | 0.85953  | 0.0369624 |  0.0039899   |  0.00223197  |   5.61349e-05\n",
      "  51 | 0.00343021 | 31.3268  | 0.0683477 | 0.859529 | 0.0369624 |  0.000550851 |  0.00175804  |   2.03738e-05\n",
      "  52 | 0.00343024 | 31.3264  | 0.0683514 | 0.859529 | 0.0369624 |  0.000476727 |  0.00120718  |   7.76015e-06\n",
      "  53 | 0.00343023 | 31.3265  | 0.0683504 | 0.859529 | 0.0369624 |  0.000127635 |  0.000730442 |   1.67198e-07\n",
      "  54 | 0.00343023 | 31.3265  | 0.0683504 | 0.859529 | 0.0369624 |  2.55037e-06 |  0.000858078 |   1.13773e-08\n",
      "  55 | 0.00343023 | 31.3265  | 0.0683504 | 0.859529 | 0.0369624 |  1.64127e-07 |  0.000860629 |   9.91865e-10\n",
      "  56 | 0.00343023 | 31.3265  | 0.0683504 | 0.859529 | 0.0369624 |  1.54731e-08 |  0.000860793 |   9.38211e-12\n"
     ]
    }
   ],
   "source": [
    "tabela = exibir_vetores(info_broyden_cent)"
   ]
  },
  {
   "cell_type": "code",
   "execution_count": 80,
   "metadata": {},
   "outputs": [
    {
     "name": "stdout",
     "output_type": "stream",
     "text": [
      "> TEMPO TOTAL: 6.5482s\n",
      "> TEMPO TOTAL MÉDIO: 0.000117s\n",
      "> TEMPO TOTAL DP: 5.6e-05s\n",
      "> QNTD MÉDIA DE PASSOS: 56.0\n",
      "> PERCENTUAIS\n",
      "* y: 18.45%\n",
      "* p1: 5.6%\n",
      "* A_inv: 47.37%\n",
      "* z: 16.06%\n",
      "* p: 10.79%\n",
      "* s1t: 1.73%\n"
     ]
    }
   ],
   "source": [
    "qntd_vezes = 1000\n",
    "params = [x0, [], erro_maximo, qntd_maxima_passos, [], -1, residuo_maximo, True, False, False, True]\n",
    "broyden_cent.bateria_testes_tempo(qntd_vezes, params)"
   ]
  }
 ],
 "metadata": {
  "kernelspec": {
   "display_name": "Python 3",
   "language": "python",
   "name": "python3"
  },
  "language_info": {
   "codemirror_mode": {
    "name": "ipython",
    "version": 3
   },
   "file_extension": ".py",
   "mimetype": "text/x-python",
   "name": "python",
   "nbconvert_exporter": "python",
   "pygments_lexer": "ipython3",
   "version": "3.9.4"
  },
  "orig_nbformat": 4,
  "vscode": {
   "interpreter": {
    "hash": "e1918bd93cc39801e4334a65862be14bcd4da945439f7014ee372d47ccba175c"
   }
  }
 },
 "nbformat": 4,
 "nbformat_minor": 2
}
