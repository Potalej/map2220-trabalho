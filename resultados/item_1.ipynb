{
 "cells": [
  {
   "attachments": {},
   "cell_type": "markdown",
   "metadata": {},
   "source": [
    "# **Item 1**\n",
    "\n",
    "Para o Item 1, precisamos resolver o seguinte sistema de equações não lineares:\n",
    "$$\n",
    "  \\begin{align}\n",
    "    x_1 x_2 + x_1 &- 3 x_5 = 0, \\nonumber \\\\\n",
    "    2x_1 x_2 + x_1 + 3 R_{10} x_2^2 + x_2 x_3^2 + & R_7 x_2 x_3 + R_9 x_2 x_4 + R_8 x_2 - R x_5 = 0, \\nonumber \\\\\n",
    "    2 x_2 x_3^2 + R_7 x_2 x_3 + & 2 R_5 x_3^2 + R_6 x_3 - 8x_5 = 0, \\nonumber \\\\\n",
    "    R_9 x_2 x_4 + & 2 x_4^2 - 4 R x_5 = 0, \\nonumber \\\\\n",
    "    x_1 x_2 + x_1 + R_{10} x_2^2 + x_2 x_3^2 + R_7 x_2 x_3 & + R_9 x_2 x_4 + R_8 x_2 + R_5 x_3^2 + R_6 x_3 + x_4^2 - 1 = 0\n",
    "  \\end{align}\n",
    "$$\n",
    "onde $0.0001 \\leq x_i \\leq 100$, $i=1,2,...,5$, $R = 10$, $R_5 = 0.193$, $R_6 = 4.10622 \\times 10^{-4}$, $R_7 = 5.45177 \\times 10^{-4}$, $R_8 = 4.4975 \\times 10^{-7}$, $R_9 = 3.40735 \\times 10^{-5}$ e $R_{10} = 9.615 \\times 10^{-7}$."
   ]
  },
  {
   "cell_type": "code",
   "execution_count": 1,
   "metadata": {},
   "outputs": [],
   "source": [
    "R, R5, R6, R7, R8, R9, R10 = [10.0, 0.193, 4.10622e-4, 5.45177e-4, 4.4975e-7, 3.40735e-5, 9.615e-7]\n",
    "\n",
    "f1 = lambda x1, x2, x3, x4, x5: x1*x2+x1-3*x5\n",
    "f2 = lambda x1, x2, x3, x4, x5: 2*x1*x2+x1+3*R10*x2**2+x2*x3**2+R7*x2*x3+R9*x2*x4+R8*x2-R*x5\n",
    "f3 = lambda x1, x2, x3, x4, x5: 2*x2*x3**2 + R7*x2*x3+2*R5*x3**2+R6*x3-8*x5\n",
    "f4 = lambda x1, x2, x3, x4, x5: R9*x2*x4+2*x4**2 - 4*R*x5\n",
    "f5 = lambda x1, x2, x3, x4, x5: x1*x2+x1+R10*x2**2+x2*x3**2+R7*x2*x3+R9*x2*x4+R8*x2+R5*x3**2+R6*x3+x4**2-1\n",
    "F = [f1,f2,f3,f4,f5]\n",
    "\n",
    "Ds = [[0.0001, 100] for i in range(5)] # domínio de soluções"
   ]
  },
  {
   "attachments": {},
   "cell_type": "markdown",
   "metadata": {},
   "source": [
    "Também usaremos a forma analítica da matriz Jacobiana, que pode ser obtida facilmente nesse caso:\n",
    "$$\n",
    "  \\bm J(\\vec x) = \n",
    "  \\begin{bmatrix}\n",
    "    x_2 + 1 & x_1 & 0 & 0 & -3 \\\\\n",
    "    2x_2 + 1 & 2x_1 + 6 R_{10} x_2 + x_3^2 + R_7 x_3 + R_9 x_4 + R_8 & 2 x_2 x_3 + R_7 x_2 & R_9 x_2 & -R \\\\\n",
    "    0 & 2x_3^2 + R_7 x_3 & 4 x_2 x_3 + R_7 x_2 + 4 R_5 x_3 + R_6 & 0 & -8 \\\\\n",
    "    0 & R_9 x_4 & 0 & R_9 x_2 + 4 x_4 & - 4 R \\\\\n",
    "    x_2 + 1 & x_1 + 2 R_{10} x_2 + x_3^2 + R_7 x_3 + R_9 x_4 + R_8 & 2 x_2 x_3 + R_7 x_2 + 2 R_5 x_3 + R_6 & R_9 x_2 + 2 x_4 & 0\n",
    "  \\end{bmatrix}\n",
    "$$"
   ]
  },
  {
   "cell_type": "code",
   "execution_count": 2,
   "metadata": {},
   "outputs": [],
   "source": [
    "Jac = [\n",
    "  [\n",
    "    lambda x1, x2, x3, x4, x5: x2 + 1,\n",
    "    lambda x1, x2, x3, x4, x5: x1,\n",
    "    lambda x1, x2, x3, x4, x5: 0,\n",
    "    lambda x1, x2, x3, x4, x5: 0,\n",
    "    lambda x1, x2, x3, x4, x5: -3\n",
    "  ],\n",
    "  [\n",
    "    lambda x1, x2, x3, x4, x5: 2*x2+1,\n",
    "    lambda x1, x2, x3, x4, x5: 2*x1+6*R10*x2+x3**2+R7*x3+R9*x4+R8,\n",
    "    lambda x1, x2, x3, x4, x5: 2*x2*x3 + R7*x2,\n",
    "    lambda x1, x2, x3, x4, x5: R9*x3,\n",
    "    lambda x1, x2, x3, x4, x5: -R\n",
    "  ],\n",
    "  [\n",
    "    lambda x1, x2, x3, x4, x5: 0,\n",
    "    lambda x1, x2, x3, x4, x5: 2*x3**2+R7*x3,\n",
    "    lambda x1, x2, x3, x4, x5: 4*x2*x3 + R7*x2 + 4*R5*x3 + R6,\n",
    "    lambda x1, x2, x3, x4, x5: 0,\n",
    "    lambda x1, x2, x3, x4, x5: -8\n",
    "  ],\n",
    "  [\n",
    "    lambda x1, x2, x3, x4, x5: 0,\n",
    "    lambda x1, x2, x3, x4, x5: R9*x4,\n",
    "    lambda x1, x2, x3, x4, x5: 0,\n",
    "    lambda x1, x2, x3, x4, x5: R9*x2 + 4*x4,\n",
    "    lambda x1, x2, x3, x4, x5: -4*R\n",
    "  ],\n",
    "  [\n",
    "    lambda x1, x2, x3, x4, x5: x2+1,\n",
    "    lambda x1, x2, x3, x4, x5: x1 + 2*R10*x2 + x3**2 + R7 * x3 + R9*x4 + R8,\n",
    "    lambda x1, x2, x3, x4, x5: 2*x3*x3 + R7*x2 + 2*R5*x3 + R6,\n",
    "    lambda x1, x2, x3, x4, x5: R9*x2 + 2*x4,\n",
    "    lambda x1, x2, x3, x4, x5: 0\n",
    "  ]\n",
    "]"
   ]
  },
  {
   "attachments": {},
   "cell_type": "markdown",
   "metadata": {},
   "source": [
    "Além disso, partiremos sempre do ponto inicial $\\vec x_0 = (10,10,10,10,10)$"
   ]
  },
  {
   "cell_type": "code",
   "execution_count": 3,
   "metadata": {},
   "outputs": [],
   "source": [
    "x0 = [10,10,10,10,10]"
   ]
  },
  {
   "attachments": {},
   "cell_type": "markdown",
   "metadata": {},
   "source": [
    "## **a) Método de Newton**\n",
    "\n",
    "**Partindo da condição inicial $\\vec x_0 = (10,10,10,10,10)$ encontre a solução para o problema usando o Método de Newton. Para cada iteração apresente a solução estimada e a norma do resíduo do lado direito da equação. Atribua um critério de convergência e meça o tempo necessário para alcançar a convergência.**"
   ]
  },
  {
   "attachments": {},
   "cell_type": "markdown",
   "metadata": {},
   "source": [
    "Utilizaremos então o Método de Newton com a matriz Jacobiana do sistema em sua forma analítica. O critério de convergência admitido é uma diferença entre passos ou um resíduo menor que $10^{-10}$, medido pela norma infinito do vetor $\\vec y$ tal que $\\bm J(\\vec x^{(i)}) \\vec y = - \\bm F(\\vec x^{(i)})$ e $\\vec x^{(i+1)} = \\vec x^{(i)} + \\vec y$. O número máximo de passos admitido é 500. O solucionador de sistemas lineares é o ```numpy.linalg.solve```. Além disso, como sabemos a solução real, podemos usá-la para comparar com o obtido."
   ]
  },
  {
   "cell_type": "code",
   "execution_count": 4,
   "metadata": {},
   "outputs": [
    {
     "name": "stdout",
     "output_type": "stream",
     "text": [
      "Causa da parada: resíduo inferior ao erro admitido\n",
      "   i |          x1 |       x2 |        x3 |       x4 |         x5 |    diferença |         erro |       resíduo\n",
      "-----+-------------+----------+-----------+----------+------------+--------------+--------------+---------------\n",
      "   1 | 0.010652    |  9.99922 | 5.00103   | 5.03642  | 0.0364587  |  9.98935     | 21.3264      | 509.558\n",
      "   2 | 0.010652    |  7.31845 | 3.01534   | 5.03642  | 0.0364587  |  2.68077     | 24.0072      | 136.314\n",
      "   3 | 0.010652    |  5.16211 | 1.84431   | 0.356842 | 0.0364587  |  4.67957     | 26.1635      |  36.1447\n",
      "   4 | 0.010652    |  3.67855 | 1.11844   | 0.356842 | 0.0364587  |  1.48356     | 27.6471      |   9.39698\n",
      "   5 | 0.010652    |  2.85949 | 0.648532  | 0.356842 | 0.0364587  |  0.819059    | 28.4661      |   2.27733\n",
      "   6 | 0.00144053  |  2.92313 | 0.319524  | 0.236671 | 0.00207919 |  0.329008    | 28.4025      |   0.620294\n",
      "   7 | 0.0143586   |  5.91608 | 0.0467644 | 0.972305 | 0.020214   |  2.99295     | 25.4096      |   1.08239\n",
      "   8 | 0.0143586   | 16.0774  | 0.274868  | 0.914238 | 0.041636   | 10.1614      | 15.2482      |   2.12798\n",
      "   9 | 0.000502602 | 14.6564  | 0.147611  | 0.41397  | 0.041636   |  1.42102     | 16.6692      |   1.32249\n",
      "  10 | 0.00376254  | 23.743   | 0.0478192 | 0.717797 | 0.0211583  |  9.08658     |  7.58264     |   0.335165\n",
      "  11 | 0.0033544   | 33.5479  | 0.0836447 | 0.915304 | 0.0399632  |  9.80495     |  2.22231     |   0.193444\n",
      "  12 | 0.00326057  | 30.4445  | 0.0697161 | 0.829739 | 0.0340786  |  3.10345     |  0.881138    |   0.0571456\n",
      "  13 | 0.00340772  | 31.3498  | 0.0680548 | 0.856925 | 0.0367019  |  0.905333    |  0.0241951   |   0.00628562\n",
      "  14 | 0.0034324   | 31.3497  | 0.0683722 | 0.860115 | 0.0370124  |  0.00319038  |  0.0240711   |   0.00136474\n",
      "  15 | 0.00343021  | 31.3237  | 0.0683503 | 0.859489 | 0.036959   |  0.0260265   |  0.00195549  |   9.31463e-05\n",
      "  16 | 0.00343022  | 31.3266  | 0.0683503 | 0.859529 | 0.0369624  |  0.0029359   |  0.000980415 |   4.26319e-08\n",
      "  17 | 0.00343023  | 31.3265  | 0.0683504 | 0.859529 | 0.0369625  |  0.000112489 |  0.000867926 |   6.19027e-07\n",
      "  18 | 0.00343023  | 31.3265  | 0.0683504 | 0.859529 | 0.0369624  |  8.59621e-06 |  0.00085933  |   5.9409e-08\n",
      "  19 | 0.00343023  | 31.3265  | 0.0683504 | 0.859529 | 0.0369624  |  1.57145e-06 |  0.000860901 |   1.63079e-09\n",
      "  20 | 0.00343023  | 31.3265  | 0.0683504 | 0.859529 | 0.0369624  |  9.4524e-08  |  0.000860806 |   2.35486e-10\n",
      "  21 | 0.00343023  | 31.3265  | 0.0683504 | 0.859529 | 0.0369624  |  1.2807e-09  |  0.000860805 |   3.34502e-11\n"
     ]
    }
   ],
   "source": [
    "from metodo_newton import Newton # classe com o Método de Newton\n",
    "from numpy.linalg import solve # método do NumPy para resolver sistemas de equações lineares\n",
    "\n",
    "newton = Newton(F, solve, Ds)\n",
    "\n",
    "limitacao_float = True\n",
    "qntd_maxima_passos = 500\n",
    "erro_maximo = 1e-10\n",
    "residuo_maximo = 1e-10\n",
    "\n",
    "sol = [0.003431, 31.325636, 0.068352, 0.859530, 0.036963]\n",
    "\n",
    "x_newton, info_newton = newton.aplicar(p0=x0,Jac=Jac,medir_tempo=True, qntd_maxima_passos=qntd_maxima_passos, erro_admitido=erro_maximo, residuo_admitido=residuo_maximo, solucao_exata=sol, adaptado=True)\n",
    "from auxiliares.exibir import exibir_vetores\n",
    "\n",
    "tabela = exibir_vetores(info_newton)"
   ]
  },
  {
   "attachments": {},
   "cell_type": "markdown",
   "metadata": {},
   "source": [
    "Assim, foram necessários 21 passos para haver convergência para o erro admitido.\n",
    "\n",
    "Quanto ao tempo, é importante aplicar o método consecutivas vezes para obter valores mais precisos de tempo. O método será aplicado 1000 vezes."
   ]
  },
  {
   "cell_type": "code",
   "execution_count": 5,
   "metadata": {},
   "outputs": [
    {
     "name": "stdout",
     "output_type": "stream",
     "text": [
      "> TEMPO TOTAL: 7.3167s\n",
      "> TEMPO TOTAL MÉDIO: 0.000348s\n",
      "> TEMPO TOTAL DP: 0.000197s\n",
      "> QNTD MÉDIA DE PASSOS: 21.0\n",
      "> PERCENTUAIS\n",
      "* jacobiana: 56.08%\n",
      "* Fx0: 22.97%\n",
      "* y: 10.4%\n",
      "* p: 10.54%\n"
     ]
    }
   ],
   "source": [
    "qntd_vezes = 1000\n",
    "params = [x0, Jac, erro_maximo, qntd_maxima_passos, [], -1, residuo_maximo, True, False, False, True]\n",
    "etapas = ['Jacobiana', '$F(x_0)$', '$y$', '$p$']\n",
    "newton.bateria_testes_tempo(qntd_vezes, params, etapas)"
   ]
  },
  {
   "attachments": {},
   "cell_type": "markdown",
   "metadata": {},
   "source": [
    "Podemos ver também que o erro, conforme esperado, segue uma convergência quadrática."
   ]
  },
  {
   "cell_type": "code",
   "execution_count": 6,
   "metadata": {},
   "outputs": [
    {
     "name": "stdout",
     "output_type": "stream",
     "text": [
      "1 0.05278439203143601\n",
      "4 0.03724174048567608\n",
      "7 0.023616959026957925\n",
      "10 0.038651368398627504\n",
      "13 41.11864241724742\n",
      "16 902.9477767360605\n",
      "19 1161.4462252430853\n"
     ]
    }
   ],
   "source": [
    "erros = info_newton[\"erro real\"]\n",
    "for i in range(1, info_newton[\"passo\"], 3):\n",
    "  print(i, erros[i]/(erros[i-1]**2))"
   ]
  },
  {
   "attachments": {},
   "cell_type": "markdown",
   "metadata": {},
   "source": [
    "E assim, nesse caso, $M \\approx 1161.703$."
   ]
  },
  {
   "attachments": {},
   "cell_type": "markdown",
   "metadata": {},
   "source": [
    "## **b) Método de Broyden**\n",
    "\n",
    "**Repita o problema usando o Método de Broyden.**"
   ]
  },
  {
   "attachments": {},
   "cell_type": "markdown",
   "metadata": {},
   "source": [
    "Partindo do mesmo ponto, podemos aplicar o Método de Broyden adaptado. Considerando 1000 passos como limite e o mesmo erro e resíduo máximos, conseguimos convergência no passo 147:"
   ]
  },
  {
   "cell_type": "code",
   "execution_count": 7,
   "metadata": {},
   "outputs": [
    {
     "name": "stdout",
     "output_type": "stream",
     "text": [
      "Causa da parada: resíduo inferior ao erro admitido\n",
      "Menor diferença:  1.5701342448437572e-08\n",
      "Menor resíduo:  9.561851310735392e-12\n",
      "Quantidade de passos:  56\n"
     ]
    }
   ],
   "source": [
    "from metodo_broyden import Broyden # classe com o Método de Broyden\n",
    "\n",
    "broyden = Broyden(F, Ds)\n",
    "\n",
    "limitacao_float = True\n",
    "qntd_maxima_passos = 3000\n",
    "erro_maximo = 1e-10\n",
    "residuo_maximo = 1e-10\n",
    "\n",
    "x_broyden, info_broyden = broyden.aplicar(p0=x0,Jac=Jac,medir_tempo=True, qntd_maxima_passos=qntd_maxima_passos, residuo_admitido=residuo_maximo, solucao_exata=sol, erro_admitido=erro_maximo, adaptado=True)\n",
    "print('Menor diferença: ', min(info_broyden['erro']))\n",
    "print('Menor resíduo: ', min(info_broyden['residuo']))\n",
    "print('Quantidade de passos: ', info_broyden[\"passo\"])"
   ]
  },
  {
   "attachments": {},
   "cell_type": "markdown",
   "metadata": {},
   "source": [
    "Observe que a convergência superlinear não ocorre no método inteiro:"
   ]
  },
  {
   "cell_type": "code",
   "execution_count": 8,
   "metadata": {},
   "outputs": [
    {
     "data": {
      "image/png": "[encoded data removed]",
      "text/plain": [
       "<Figure size 640x480 with 1 Axes>"
      ]
     },
     "metadata": {},
     "output_type": "display_data"
    }
   ],
   "source": [
    "erros = info_broyden[\"erro real\"]\n",
    "razao = []\n",
    "for i in range(1, len(erros)):\n",
    "  razao.append(erros[i]/erros[i-1])\n",
    "import matplotlib.pyplot as plt\n",
    "plt.plot(razao)\n",
    "plt.ylim([0,2])\n",
    "plt.show()"
   ]
  },
  {
   "attachments": {},
   "cell_type": "markdown",
   "metadata": {},
   "source": [
    "A convergência para o 1 pode parecer inesperada, mas é apenas consequência das limitações de precisão de ponto flutuante. Observe que imediatamente após haver uma queda significativa, há uma subida no erro que imediatamente leva a 1. Isso significa que o erro ficou tão pequeno que o computador não consegue obter um erro menor, então há convergência. Isso pode ser observado quando \n",
    "\n",
    "Observe os passos:"
   ]
  },
  {
   "cell_type": "code",
   "execution_count": 9,
   "metadata": {},
   "outputs": [
    {
     "name": "stdout",
     "output_type": "stream",
     "text": [
      "   i |         x1 |       x2 |        x3 |       x4 |        x5 |    diferença |         erro |       resíduo\n",
      "-----+------------+----------+-----------+----------+-----------+--------------+--------------+---------------\n",
      "   1 | 0.010652   |  9.99922 | 5.00103   | 5.03642  | 0.0364587 |  9.98935     | 28.9165      | 509.558\n",
      "   2 | 0.00930921 |  9.99992 | 3.68549   | 3.74021  | 0.0366096 |  1.31554     | 22.2844      | 276.626\n",
      "   3 | 0.0081241  | 10.0028  | 2.12982   | 2.2212   | 0.0367878 |  1.55566     | 21.8213      |  92.2181\n",
      "   4 | 0.00741548 | 10.0072  | 1.36875   | 1.49585  | 0.0368749 |  0.761077    | 21.4654      |  37.9325\n",
      "   5 | 0.00692512 | 10.0134  | 0.87584   | 1.04643  | 0.0369311 |  0.492909    | 21.3676      |  15.3682\n",
      "   6 | 0.00665183 | 10.0203  | 0.612067  | 0.82762  | 0.0369611 |  0.263773    | 21.3284      |   7.36023\n",
      "   7 | 0.0065229  | 10.0273  | 0.48486   | 0.743325 | 0.0369754 |  0.127207    | 21.3123      |   4.51239\n",
      "   8 | 0.00647632 | 10.0334  | 0.435246  | 0.729469 | 0.0369809 |  0.049614    | 21.3028      |   3.58127\n",
      "   9 | 0.00645571 | 10.0399  | 0.409207  | 0.738336 | 0.0369836 |  0.0260387   | 21.2958      |   3.13354\n",
      "  10 | 0.00640533 | 10.0609  | 0.340977  | 0.776324 | 0.0369907 |  0.0682298   | 21.2888      |   2.09044\n",
      "  11 | 0.0057097  | 10.3208  | 0.340977  | 1.18624  | 0.0370772 |  0.409916    | 21.2666      |   2.15022\n",
      "  12 | 0.00642028 | 10.0447  | 0.371043  | 0.761017 | 0.0369876 |  0.425224    | 21.0092      |   2.5252\n",
      "  13 | 0.00644725 | 10.026   | 0.406403  | 0.744648 | 0.0369839 |  0.0353597   | 21.2833      |   3.08211\n",
      "  14 | 0.00629619 | 10.1651  | 0.161588  | 0.864489 | 0.0370091 |  0.244814    | 21.3027      |   0.245804\n",
      "  15 | 0.00509152 | 10.7253  | 0.161588  | 1.25751  | 0.037128  |  0.560252    | 21.1608      |   1.678\n",
      "  16 | 0.00626165 | 10.0865  | 0.208328  | 0.819142 | 0.0370048 |  0.638855    | 20.6044      |   0.597462\n",
      "  17 | 0.00633321 | 10.036   | 0.26753   | 0.797541 | 0.0369986 |  0.0592016   | 21.2397      |   1.16981\n",
      "  18 | 0.0059947  | 10.3174  | 0.26753   | 0.906207 | 0.0370346 |  0.281448    | 21.2907      |   1.20985\n",
      "  19 | 0.00645994 |  9.71287 | 0.453176  | 0.716078 | 0.0369802 |  0.604566    | 21.0092      |   3.77544\n",
      "  20 | 0.0064449  | 13.6234  | 0.453176  | 1.69868  | 0.0371869 |  3.91052     | 21.6167      |   5.38095\n",
      "  21 | 0.00578003 |  8.84404 | 0.894265  | 0.602776 | 0.0369389 |  4.77935     | 17.7263      |  14.1632\n",
      "  22 | 0.00578003 |  8.84404 | 7.05755   | 0.602776 | 0.0363941 |  6.16328     | 22.4982      | 899.997\n",
      "  23 | 0.00775676 |  9.43333 | 0.800479  | 0.74768  | 0.0369476 |  6.25707     | 23.5444      |  12.0453\n",
      "  24 | 0.00972219 |  9.7101  | 0.719339  | 0.816659 | 0.0369522 |  0.276775    | 21.9048      |   9.95717\n",
      "  25 | 0.0101086  |  9.91454 | 0.595203  | 0.867309 | 0.0369629 |  0.20444     | 21.6254      |   6.86929\n",
      "  26 | 0.00916324 |  9.92451 | 0.528555  | 0.868086 | 0.0369703 |  0.0666479   | 21.4176      |   5.36039\n",
      "  27 | 0.00916324 | 10.301   | 0.528555  | 0.917874 | 0.0370834 |  0.376443    | 21.4061      |   5.56993\n",
      "  28 | 0.00746895 | 10.0539  | 0.330766  | 0.876294 | 0.0369909 |  0.247057    | 21.0298      |   1.94817\n",
      "  29 | 0.00692254 | 10.1305  | 0.230514  | 0.879096 | 0.0370015 |  0.100252    | 21.2734      |   0.802468\n",
      "  30 | 0.0061051  | 10.3305  | 0.0113438 | 0.883128 | 0.0370249 |  0.21917     | 21.1958      |   0.293423\n",
      "  31 | 0.00561005 | 10.659   | 0.0113438 | 0.885792 | 0.0370609 |  0.32852     | 20.9952      |   0.293624\n",
      "  32 | 0.00521298 | 12.3769  | 0.0113438 | 0.884622 | 0.0370359 |  1.71791     | 20.6667      |   0.292971\n",
      "  33 | 0.00262802 | 22.1693  | 0.0113438 | 0.871446 | 0.0370133 |  9.79237     | 18.9488      |   0.290209\n",
      "  34 | 0.0113548  | 22.1693  | 0.0113438 | 0.938056 | 0.0372488 |  0.0666096   |  9.15652     |   0.292093\n",
      "  35 | 0.00442565 | 11.7206  | 0.0113438 | 0.880096 | 0.0370364 | 10.4488      |  9.15685     |   0.293148\n",
      "  36 | 0.00264073 | 37.2816  | 0.0195447 | 0.863955 | 0.0369749 | 25.5611      | 19.6052      |   0.266763\n",
      "  37 | 0.00355702 | 36.0604  | 0.0271657 | 0.862998 | 0.0369613 |  1.22128     |  5.95622     |   0.241637\n",
      "  38 | 0.00395232 | 37.8709  | 0.023878  | 0.863718 | 0.0369575 |  1.81051     |  4.73492     |   0.251752\n",
      "  39 | 0.0030743  | 34.1136  | 0.0379954 | 0.861704 | 0.0369649 |  3.75725     |  6.5454      |   0.195944\n",
      "  40 | 0.00325311 | 33.8556  | 0.0449335 | 0.861517 | 0.0369629 |  0.258012    |  2.78817     |   0.157366\n",
      "  41 | 0.00320677 | 34.3087  | 0.0397549 | 0.861842 | 0.0369634 |  0.453109    |  2.5301      |   0.185891\n",
      "  42 | 0.00366333 | 28.6263  | 0.0993198 | 0.85781  | 0.0369591 |  5.68244     |  2.98324     |   0.274489\n",
      "  43 | 0.00356082 | 31.4734  | 0.0680086 | 0.859326 | 0.0369623 |  2.84713     |  2.69952     |   0.00861011\n",
      "  44 | 0.00353808 | 30.5387  | 0.0754878 | 0.858686 | 0.0369625 |  0.934674    |  0.147787    |   0.0558318\n",
      "  45 | 0.00343224 | 30.7874  | 0.0722724 | 0.859028 | 0.0369628 |  0.24867     |  0.78692     |   0.0291799\n",
      "  46 | 0.00345897 | 30.2567  | 0.0765102 | 0.858524 | 0.0369631 |  0.530709    |  0.538232    |   0.0620826\n",
      "  47 | 0.0034244  | 31.4635  | 0.067265  | 0.85967  | 0.0369624 |  1.20682     |  1.06896     |   0.00805215\n",
      "  48 | 0.00342978 | 31.3436  | 0.0682167 | 0.859543 | 0.0369624 |  0.119959    |  0.137895    |   0.000993971\n",
      "  49 | 0.00343008 | 31.3234  | 0.0683712 | 0.859526 | 0.0369624 |  0.0201837   |  0.0179328   |   0.000150132\n",
      "  50 | 0.00343016 | 31.3274  | 0.0683428 | 0.85953  | 0.0369624 |  0.00402833  |  0.00225148  |   5.72765e-05\n",
      "  51 | 0.00343021 | 31.3268  | 0.0683476 | 0.859529 | 0.0369624 |  0.000563327 |  0.00177696  |   2.07518e-05\n",
      "  52 | 0.00343024 | 31.3264  | 0.0683514 | 0.859529 | 0.0369624 |  0.000483148 |  0.00121362  |   7.75988e-06\n",
      "  53 | 0.00343023 | 31.3265  | 0.0683504 | 0.859529 | 0.0369624 |  0.000127556 |  0.000730464 |   1.70674e-07\n",
      "  54 | 0.00343023 | 31.3265  | 0.0683504 | 0.859529 | 0.0369624 |  2.60557e-06 |  0.000858021 |   1.15043e-08\n",
      "  55 | 0.00343023 | 31.3265  | 0.0683504 | 0.859529 | 0.0369624 |  1.65903e-07 |  0.000860627 |   1.00654e-09\n",
      "  56 | 0.00343023 | 31.3265  | 0.0683504 | 0.859529 | 0.0369624 |  1.57013e-08 |  0.000860793 |   9.56185e-12\n"
     ]
    }
   ],
   "source": [
    "tabela = exibir_vetores(info_broyden)"
   ]
  },
  {
   "attachments": {},
   "cell_type": "markdown",
   "metadata": {},
   "source": [
    "\n",
    "\n",
    "Observemos a questão do tempo:"
   ]
  },
  {
   "cell_type": "code",
   "execution_count": 10,
   "metadata": {},
   "outputs": [
    {
     "name": "stdout",
     "output_type": "stream",
     "text": [
      "> TEMPO TOTAL: 6.4341s\n",
      "> TEMPO TOTAL MÉDIO: 0.000115s\n",
      "> TEMPO TOTAL DP: 4.7e-05s\n",
      "> QNTD MÉDIA DE PASSOS: 56.0\n",
      "> PERCENTUAIS\n",
      "* y: 18.3%\n",
      "* p1: 5.49%\n",
      "* A_inv: 47.14%\n",
      "* z: 16.05%\n",
      "* p: 10.83%\n",
      "* s1t: 2.19%\n"
     ]
    }
   ],
   "source": [
    "qntd_vezes = 1000\n",
    "params = [x0, Jac, erro_maximo, qntd_maxima_passos, [], -1, residuo_maximo, True, False, False, True]\n",
    "broyden.bateria_testes_tempo(qntd_vezes, params, etapas)"
   ]
  },
  {
   "attachments": {},
   "cell_type": "markdown",
   "metadata": {},
   "source": [
    "O que é menor que o tempo demandado pelo Método de Newton, sendo então mais rápido que o de Newton como esperado, e sendo também menos preciso, conforme a teoria."
   ]
  }
 ],
 "metadata": {
  "kernelspec": {
   "display_name": "Python 3",
   "language": "python",
   "name": "python3"
  },
  "language_info": {
   "codemirror_mode": {
    "name": "ipython",
    "version": 3
   },
   "file_extension": ".py",
   "mimetype": "text/x-python",
   "name": "python",
   "nbconvert_exporter": "python",
   "pygments_lexer": "ipython3",
   "version": "3.9.4 (tags/v3.9.4:1f2e308, Apr  6 2021, 13:40:21) [MSC v.1928 64 bit (AMD64)]"
  },
  "orig_nbformat": 4,
  "vscode": {
   "interpreter": {
    "hash": "e1918bd93cc39801e4334a65862be14bcd4da945439f7014ee372d47ccba175c"
   }
  }
 },
 "nbformat": 4,
 "nbformat_minor": 2
}
