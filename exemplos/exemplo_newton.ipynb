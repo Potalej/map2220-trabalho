{
 "cells": [
  {
   "attachments": {},
   "cell_type": "markdown",
   "metadata": {},
   "source": [
    "# **Exemplo: Método de Newton Multivariado**\n",
    "\n",
    "Para averiguar a teoria sobre o Método de Newton, vou usar um exemplo dado por Mirshawka na página 238:\n",
    "$$\n",
    "\\begin{cases}\n",
    "  f(x,y) = 2x^3 - y^2 - 1 = 0\n",
    "  \\\\\n",
    "  g(x,y) = xy^3 - y - 4 = 0\n",
    "\\end{cases}\n",
    "$$\n",
    "\n",
    "Começaremos com o ponto $p^{(0)}=(x_0,y_0)=(1.2,1.7)$. Para resolver os sistemas linares utilizaremos o ```numpy.linalg.solve```."
   ]
  },
  {
   "cell_type": "code",
   "execution_count": 1,
   "metadata": {},
   "outputs": [],
   "source": [
    "from metodo_newton import Newton\n",
    "from numpy.linalg import solve"
   ]
  },
  {
   "cell_type": "code",
   "execution_count": 2,
   "metadata": {},
   "outputs": [],
   "source": [
    "f = lambda x,y: 2*x**3 - y**2 - 1\n",
    "g = lambda x,y: x*y**3 - y - 4\n",
    "F = [f,g]\n",
    "\n",
    "p0 = [1.2, 1.7]"
   ]
  },
  {
   "attachments": {},
   "cell_type": "markdown",
   "metadata": {},
   "source": [
    "Usaremos também a forma analítica da Jacobiana:"
   ]
  },
  {
   "cell_type": "code",
   "execution_count": 3,
   "metadata": {},
   "outputs": [],
   "source": [
    "Jac = [\n",
    "  [lambda x,y: 6*x**2, lambda x,y: -2*y],\n",
    "  [lambda x,y: y**3, lambda x,y: 3*x*y**2-1]\n",
    "]"
   ]
  },
  {
   "attachments": {},
   "cell_type": "markdown",
   "metadata": {},
   "source": [
    "Inclusive, sabemos que uma solução precisa é (1.2342744841145, 1.6615264667959)$^t$, então a usaremos para medir o erro absoluto."
   ]
  },
  {
   "cell_type": "code",
   "execution_count": 4,
   "metadata": {},
   "outputs": [],
   "source": [
    "sol = [1.2342744841145, 1.6615264667959]"
   ]
  },
  {
   "cell_type": "code",
   "execution_count": 5,
   "metadata": {},
   "outputs": [
    {
     "name": "stdout",
     "output_type": "stream",
     "text": [
      "[[1.23487626]\n",
      " [1.66097968]]\n"
     ]
    }
   ],
   "source": [
    "newton = Newton(F, metodo_sistema_linear=solve)\n",
    "\n",
    "p_estimado, info = newton.aplicar(p0, Jac, qntd_exata_passos=1, solucao_exata=sol)\n",
    "\n",
    "print(p_estimado)"
   ]
  },
  {
   "attachments": {},
   "cell_type": "markdown",
   "metadata": {},
   "source": [
    "Dada a solução exata acima, obtemos um excelente resultado. Iteremos mais algumas vezes:"
   ]
  },
  {
   "cell_type": "code",
   "execution_count": 6,
   "metadata": {},
   "outputs": [
    {
     "name": "stdout",
     "output_type": "stream",
     "text": [
      "   n |   ||y||_inf |   ||p-p_k||_inf\n",
      "-----+-------------+-----------------\n",
      "   1 | 0.0390203   |        0.426705\n",
      "   2 | 0.000601588 |        0.427252\n",
      "   3 | 1.91209e-07 |        0.427252\n",
      "   4 | 1.90212e-14 |        0.427252\n",
      "   5 | 1.6312e-16  |        0.427252\n",
      "   6 | 8.2289e-17  |        0.427252\n"
     ]
    }
   ],
   "source": [
    "p_estimado, info = newton.aplicar(p0, Jac, qntd_exata_passos=6, solucao_exata=sol)\n",
    "\n",
    "from auxiliares.exibir import exibir\n",
    "tabela = exibir(\n",
    "  [\"n\", \"||y||_inf\", \"||p-p_k||_inf\"], \n",
    "  [[i+1 for i in range(6)], info[\"erro\"], info[\"erro real\"]]\n",
    ")"
   ]
  },
  {
   "attachments": {},
   "cell_type": "markdown",
   "metadata": {},
   "source": [
    "Além disso, podemos usar também um Jacobiano numérico no lugar de um exato. Nesse caso, iremos usar as diferenças progressivas, com $h=1e-4$ arbitrariamente."
   ]
  },
  {
   "cell_type": "code",
   "execution_count": 7,
   "metadata": {},
   "outputs": [
    {
     "name": "stdout",
     "output_type": "stream",
     "text": [
      "   n |   ||y||_inf |   ||p-p_k||_inf\n",
      "-----+-------------+-----------------\n",
      "   1 | 0.0390168   |        0.426709\n",
      "   2 | 0.000599598 |        0.427252\n",
      "   3 | 2.4369e-07  |        0.427252\n",
      "   4 | 2.2592e-11  |        0.427252\n",
      "   5 | 1.93892e-15 |        0.427252\n",
      "   6 | 8.22838e-17 |        0.427252\n"
     ]
    }
   ],
   "source": [
    "from auxiliares.diferencasFinitas import DiferencasFinitas\n",
    "\n",
    "diferencas_progressivas = DiferencasFinitas(h=1e-4).progressivas\n",
    "newton = Newton(F, metodo_sistema_linear=solve, metodo_diferenciacao=diferencas_progressivas, h=1e-4)\n",
    "\n",
    "p_estimado, info = newton.aplicar(p0, qntd_exata_passos=6, solucao_exata=sol)\n",
    "\n",
    "tabela = exibir(\n",
    "  [\"n\", \"||y||_inf\", \"||p-p_k||_inf\"], \n",
    "  [[i+1 for i in range(6)], info[\"erro\"], info[\"erro real\"]]\n",
    ")"
   ]
  }
 ],
 "metadata": {
  "kernelspec": {
   "display_name": "Python 3",
   "language": "python",
   "name": "python3"
  },
  "language_info": {
   "codemirror_mode": {
    "name": "ipython",
    "version": 3
   },
   "file_extension": ".py",
   "mimetype": "text/x-python",
   "name": "python",
   "nbconvert_exporter": "python",
   "pygments_lexer": "ipython3",
   "version": "3.9.4"
  },
  "orig_nbformat": 4,
  "vscode": {
   "interpreter": {
    "hash": "e1918bd93cc39801e4334a65862be14bcd4da945439f7014ee372d47ccba175c"
   }
  }
 },
 "nbformat": 4,
 "nbformat_minor": 2
}
