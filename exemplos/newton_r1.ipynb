{
 "cells": [
  {
   "attachments": {},
   "cell_type": "markdown",
   "metadata": {},
   "source": [
    "# **Exemplo: Método de Newton em R**\n",
    "\n",
    "Aqui consta um exemplo de aplicação do Método de Newton para encontrar a raiz de uma função $f: \\mathbb{R} \\rightarrow \\mathbb{R}$ não linear, que no caso é \n",
    "$$\n",
    "  f(x) = \\cos(x) - x^3\n",
    "$$\n",
    "\n",
    "Uma interpretação equivalente é resolver a equação não linear\n",
    "$$\n",
    "  \\cos(x) = x^3\n",
    "$$\n",
    "\n",
    "Partiremos do ponto inicial $p^{(0)} = 3/4$, e usaremos as versões analíticas das derivações de $f$. Sabemos também que a solução é algo próximo de 0.86547403310161444662."
   ]
  },
  {
   "cell_type": "code",
   "execution_count": 15,
   "metadata": {},
   "outputs": [],
   "source": [
    "from math import sin, cos\n",
    "\n",
    "f   = lambda x: cos(x) - x**3     #   f(x)\n",
    "f_  = lambda x: -sin(x) - 3*x**2  #  f'(x)\n",
    "f__ = lambda x: -cos(x) - 6*x     # f''(x)\n",
    "\n",
    "p0 = 3/4\n",
    "sol = 0.86547403310161444662"
   ]
  },
  {
   "attachments": {},
   "cell_type": "markdown",
   "metadata": {},
   "source": [
    "O Método de Newton para funções de uma única variável consiste no seguinte:\n",
    "$$\n",
    "  p^{(i+1)} = p^{(i)} - \\dfrac{f(p^{(i)})}{f'(p^{(i)})}\n",
    "$$"
   ]
  },
  {
   "cell_type": "code",
   "execution_count": 16,
   "metadata": {},
   "outputs": [],
   "source": [
    "def newton (p0, f, f_p0): return p0 - f(p0)/f_p0"
   ]
  },
  {
   "attachments": {},
   "cell_type": "markdown",
   "metadata": {},
   "source": [
    "É importante também medirmos o erro real e o erro estimado para verificar a teoria de convergência quadrática.\n",
    "\n",
    "Primeiramente, podemos ver que a condição $M | e_0 | < 1$. Para isso, considere que estamos pensando no intervalo $(0.5,1)$ e que, então, já que tomamos $p^{(0)} = 3/4$, no pior dos casos $e_0 = 1/4$. Assim:"
   ]
  },
  {
   "cell_type": "code",
   "execution_count": 17,
   "metadata": {},
   "outputs": [
    {
     "name": "stdout",
     "output_type": "stream",
     "text": [
      "0.6649754397990529\n"
     ]
    }
   ],
   "source": [
    "e_0 = 1/4\n",
    "M = abs(f__(1))/(2*abs(f_(.5)))\n",
    "print(M * abs(e_0))"
   ]
  },
  {
   "attachments": {},
   "cell_type": "markdown",
   "metadata": {},
   "source": [
    "Então está garantido $M | e_0 | < 1$. Podemos ir aos erros."
   ]
  },
  {
   "cell_type": "code",
   "execution_count": 18,
   "metadata": {},
   "outputs": [
    {
     "name": "stdout",
     "output_type": "stream",
     "text": [
      "   n |    absoluto |   estimativa\n",
      "-----+-------------+--------------\n",
      "   0 | 0.0152966   |  0.166244\n",
      "   1 | 0.000222566 |  0.0735118\n",
      "   2 | 4.80725e-08 |  0.0143741\n",
      "   3 | 2.33147e-15 |  0.000549571\n",
      "   4 | 0           |  8.03367e-07\n"
     ]
    }
   ],
   "source": [
    "e_n = e_0\n",
    "erro_absoluto, erro_estimado = [], []\n",
    "x0 = p0\n",
    "pontos=[]\n",
    "for i in range(5):\n",
    "  # aplica o método\n",
    "  p0 = newton(p0, f, f_(p0))\n",
    "  pontos.append([p0,f(p0)])\n",
    "\n",
    "  # erro absoluto\n",
    "  erro_absoluto.append(abs(sol - p0))\n",
    "\n",
    "  # erro estimado\n",
    "  erro_estimado.append(M * e_n**2)\n",
    "  e_n = erro_estimado[-1]\n",
    "\n",
    "from auxiliares.exibir import exibir\n",
    "\n",
    "tabela = exibir(['n', 'absoluto', 'estimativa'], [\n",
    "  [i for i in range(len(erro_absoluto))],\n",
    "  erro_absoluto,\n",
    "  erro_estimado\n",
    "])\n",
    "pontos = list(zip(*pontos))"
   ]
  },
  {
   "cell_type": "code",
   "execution_count": 21,
   "metadata": {},
   "outputs": [
    {
     "ename": "ValueError",
     "evalue": "Unrecognized marker style (0.8654740331016144, 1.1102230246251565e-16)",
     "output_type": "error",
     "traceback": [
      "\u001b[1;31m---------------------------------------------------------------------------\u001b[0m",
      "\u001b[1;31mValueError\u001b[0m                                Traceback (most recent call last)",
      "File \u001b[1;32mc:\\Users\\zmath\\AppData\\Local\\Programs\\Python\\Python39\\lib\\site-packages\\matplotlib\\markers.py:327\u001b[0m, in \u001b[0;36mMarkerStyle._set_marker\u001b[1;34m(self, marker)\u001b[0m\n\u001b[0;32m    326\u001b[0m \u001b[39mtry\u001b[39;00m:\n\u001b[1;32m--> 327\u001b[0m     Path(marker)\n\u001b[0;32m    328\u001b[0m     \u001b[39mself\u001b[39m\u001b[39m.\u001b[39m_marker_function \u001b[39m=\u001b[39m \u001b[39mself\u001b[39m\u001b[39m.\u001b[39m_set_vertices\n",
      "File \u001b[1;32mc:\\Users\\zmath\\AppData\\Local\\Programs\\Python\\Python39\\lib\\site-packages\\matplotlib\\path.py:129\u001b[0m, in \u001b[0;36mPath.__init__\u001b[1;34m(self, vertices, codes, _interpolation_steps, closed, readonly)\u001b[0m\n\u001b[0;32m    128\u001b[0m vertices \u001b[39m=\u001b[39m _to_unmasked_float_array(vertices)\n\u001b[1;32m--> 129\u001b[0m _api\u001b[39m.\u001b[39;49mcheck_shape((\u001b[39mNone\u001b[39;49;00m, \u001b[39m2\u001b[39;49m), vertices\u001b[39m=\u001b[39;49mvertices)\n\u001b[0;32m    131\u001b[0m \u001b[39mif\u001b[39;00m codes \u001b[39mis\u001b[39;00m \u001b[39mnot\u001b[39;00m \u001b[39mNone\u001b[39;00m:\n",
      "File \u001b[1;32mc:\\Users\\zmath\\AppData\\Local\\Programs\\Python\\Python39\\lib\\site-packages\\matplotlib\\_api\\__init__.py:165\u001b[0m, in \u001b[0;36mcheck_shape\u001b[1;34m(_shape, **kwargs)\u001b[0m\n\u001b[0;32m    160\u001b[0m text_shape \u001b[39m=\u001b[39m \u001b[39m\"\u001b[39m\u001b[39m, \u001b[39m\u001b[39m\"\u001b[39m\u001b[39m.\u001b[39mjoin((\u001b[39mstr\u001b[39m(n)\n\u001b[0;32m    161\u001b[0m                         \u001b[39mif\u001b[39;00m n \u001b[39mis\u001b[39;00m \u001b[39mnot\u001b[39;00m \u001b[39mNone\u001b[39;00m\n\u001b[0;32m    162\u001b[0m                         \u001b[39melse\u001b[39;00m \u001b[39mnext\u001b[39m(dim_labels)\n\u001b[0;32m    163\u001b[0m                         \u001b[39mfor\u001b[39;00m n \u001b[39min\u001b[39;00m target_shape))\n\u001b[1;32m--> 165\u001b[0m \u001b[39mraise\u001b[39;00m \u001b[39mValueError\u001b[39;00m(\n\u001b[0;32m    166\u001b[0m     \u001b[39mf\u001b[39m\u001b[39m\"\u001b[39m\u001b[39m{\u001b[39;00mk\u001b[39m!r}\u001b[39;00m\u001b[39m must be \u001b[39m\u001b[39m{\u001b[39;00m\u001b[39mlen\u001b[39m(target_shape)\u001b[39m}\u001b[39;00m\u001b[39mD \u001b[39m\u001b[39m\"\u001b[39m\n\u001b[0;32m    167\u001b[0m     \u001b[39mf\u001b[39m\u001b[39m\"\u001b[39m\u001b[39mwith shape (\u001b[39m\u001b[39m{\u001b[39;00mtext_shape\u001b[39m}\u001b[39;00m\u001b[39m). \u001b[39m\u001b[39m\"\u001b[39m\n\u001b[0;32m    168\u001b[0m     \u001b[39mf\u001b[39m\u001b[39m\"\u001b[39m\u001b[39mYour input has shape \u001b[39m\u001b[39m{\u001b[39;00mv\u001b[39m.\u001b[39mshape\u001b[39m}\u001b[39;00m\u001b[39m.\u001b[39m\u001b[39m\"\u001b[39m\n\u001b[0;32m    169\u001b[0m )\n",
      "\u001b[1;31mValueError\u001b[0m: 'vertices' must be 2D with shape (M, 2). Your input has shape (2,).",
      "\nThe above exception was the direct cause of the following exception:\n",
      "\u001b[1;31mValueError\u001b[0m                                Traceback (most recent call last)",
      "\u001b[1;32md:\\projeto\\map2220-trabalho\\exemplo_newton_r1.ipynb Cell 9\u001b[0m in \u001b[0;36m<cell line: 3>\u001b[1;34m()\u001b[0m\n\u001b[0;32m      <a href='vscode-notebook-cell:/d%3A/projeto/map2220-trabalho/exemplo_newton_r1.ipynb#X12sZmlsZQ%3D%3D?line=0'>1</a>\u001b[0m \u001b[39mimport\u001b[39;00m \u001b[39mmatplotlib\u001b[39;00m\u001b[39m.\u001b[39;00m\u001b[39mpyplot\u001b[39;00m \u001b[39mas\u001b[39;00m \u001b[39mplt\u001b[39;00m\n\u001b[0;32m      <a href='vscode-notebook-cell:/d%3A/projeto/map2220-trabalho/exemplo_newton_r1.ipynb#X12sZmlsZQ%3D%3D?line=1'>2</a>\u001b[0m pontos \u001b[39m=\u001b[39m \u001b[39mlist\u001b[39m(\u001b[39mzip\u001b[39m(\u001b[39m*\u001b[39mpontos))\n\u001b[1;32m----> <a href='vscode-notebook-cell:/d%3A/projeto/map2220-trabalho/exemplo_newton_r1.ipynb#X12sZmlsZQ%3D%3D?line=2'>3</a>\u001b[0m plt\u001b[39m.\u001b[39;49mscatter(\u001b[39m*\u001b[39;49mpontos)\n",
      "File \u001b[1;32mc:\\Users\\zmath\\AppData\\Local\\Programs\\Python\\Python39\\lib\\site-packages\\matplotlib\\pyplot.py:3037\u001b[0m, in \u001b[0;36mscatter\u001b[1;34m(x, y, s, c, marker, cmap, norm, vmin, vmax, alpha, linewidths, edgecolors, plotnonfinite, data, **kwargs)\u001b[0m\n\u001b[0;32m   3032\u001b[0m \u001b[39m@_copy_docstring_and_deprecators\u001b[39m(Axes\u001b[39m.\u001b[39mscatter)\n\u001b[0;32m   3033\u001b[0m \u001b[39mdef\u001b[39;00m \u001b[39mscatter\u001b[39m(\n\u001b[0;32m   3034\u001b[0m         x, y, s\u001b[39m=\u001b[39m\u001b[39mNone\u001b[39;00m, c\u001b[39m=\u001b[39m\u001b[39mNone\u001b[39;00m, marker\u001b[39m=\u001b[39m\u001b[39mNone\u001b[39;00m, cmap\u001b[39m=\u001b[39m\u001b[39mNone\u001b[39;00m, norm\u001b[39m=\u001b[39m\u001b[39mNone\u001b[39;00m,\n\u001b[0;32m   3035\u001b[0m         vmin\u001b[39m=\u001b[39m\u001b[39mNone\u001b[39;00m, vmax\u001b[39m=\u001b[39m\u001b[39mNone\u001b[39;00m, alpha\u001b[39m=\u001b[39m\u001b[39mNone\u001b[39;00m, linewidths\u001b[39m=\u001b[39m\u001b[39mNone\u001b[39;00m, \u001b[39m*\u001b[39m,\n\u001b[0;32m   3036\u001b[0m         edgecolors\u001b[39m=\u001b[39m\u001b[39mNone\u001b[39;00m, plotnonfinite\u001b[39m=\u001b[39m\u001b[39mFalse\u001b[39;00m, data\u001b[39m=\u001b[39m\u001b[39mNone\u001b[39;00m, \u001b[39m*\u001b[39m\u001b[39m*\u001b[39mkwargs):\n\u001b[1;32m-> 3037\u001b[0m     __ret \u001b[39m=\u001b[39m gca()\u001b[39m.\u001b[39mscatter(\n\u001b[0;32m   3038\u001b[0m         x, y, s\u001b[39m=\u001b[39ms, c\u001b[39m=\u001b[39mc, marker\u001b[39m=\u001b[39mmarker, cmap\u001b[39m=\u001b[39mcmap, norm\u001b[39m=\u001b[39mnorm,\n\u001b[0;32m   3039\u001b[0m         vmin\u001b[39m=\u001b[39mvmin, vmax\u001b[39m=\u001b[39mvmax, alpha\u001b[39m=\u001b[39malpha, linewidths\u001b[39m=\u001b[39mlinewidths,\n\u001b[0;32m   3040\u001b[0m         edgecolors\u001b[39m=\u001b[39medgecolors, plotnonfinite\u001b[39m=\u001b[39mplotnonfinite,\n\u001b[0;32m   3041\u001b[0m         \u001b[39m*\u001b[39m\u001b[39m*\u001b[39m({\u001b[39m\"\u001b[39m\u001b[39mdata\u001b[39m\u001b[39m\"\u001b[39m: data} \u001b[39mif\u001b[39;00m data \u001b[39mis\u001b[39;00m \u001b[39mnot\u001b[39;00m \u001b[39mNone\u001b[39;00m \u001b[39melse\u001b[39;00m {}), \u001b[39m*\u001b[39m\u001b[39m*\u001b[39mkwargs)\n\u001b[0;32m   3042\u001b[0m     sci(__ret)\n\u001b[0;32m   3043\u001b[0m     \u001b[39mreturn\u001b[39;00m __ret\n",
      "File \u001b[1;32mc:\\Users\\zmath\\AppData\\Local\\Programs\\Python\\Python39\\lib\\site-packages\\matplotlib\\__init__.py:1352\u001b[0m, in \u001b[0;36m_preprocess_data.<locals>.inner\u001b[1;34m(ax, data, *args, **kwargs)\u001b[0m\n\u001b[0;32m   1349\u001b[0m \u001b[39m@functools\u001b[39m\u001b[39m.\u001b[39mwraps(func)\n\u001b[0;32m   1350\u001b[0m \u001b[39mdef\u001b[39;00m \u001b[39minner\u001b[39m(ax, \u001b[39m*\u001b[39margs, data\u001b[39m=\u001b[39m\u001b[39mNone\u001b[39;00m, \u001b[39m*\u001b[39m\u001b[39m*\u001b[39mkwargs):\n\u001b[0;32m   1351\u001b[0m     \u001b[39mif\u001b[39;00m data \u001b[39mis\u001b[39;00m \u001b[39mNone\u001b[39;00m:\n\u001b[1;32m-> 1352\u001b[0m         \u001b[39mreturn\u001b[39;00m func(ax, \u001b[39m*\u001b[39m\u001b[39mmap\u001b[39m(sanitize_sequence, args), \u001b[39m*\u001b[39m\u001b[39m*\u001b[39mkwargs)\n\u001b[0;32m   1354\u001b[0m     bound \u001b[39m=\u001b[39m new_sig\u001b[39m.\u001b[39mbind(ax, \u001b[39m*\u001b[39margs, \u001b[39m*\u001b[39m\u001b[39m*\u001b[39mkwargs)\n\u001b[0;32m   1355\u001b[0m     auto_label \u001b[39m=\u001b[39m (bound\u001b[39m.\u001b[39marguments\u001b[39m.\u001b[39mget(label_namer)\n\u001b[0;32m   1356\u001b[0m                   \u001b[39mor\u001b[39;00m bound\u001b[39m.\u001b[39mkwargs\u001b[39m.\u001b[39mget(label_namer))\n",
      "File \u001b[1;32mc:\\Users\\zmath\\AppData\\Local\\Programs\\Python\\Python39\\lib\\site-packages\\matplotlib\\axes\\_axes.py:4523\u001b[0m, in \u001b[0;36mAxes.scatter\u001b[1;34m(self, x, y, s, c, marker, cmap, norm, vmin, vmax, alpha, linewidths, edgecolors, plotnonfinite, **kwargs)\u001b[0m\n\u001b[0;32m   4521\u001b[0m     marker_obj \u001b[39m=\u001b[39m marker\n\u001b[0;32m   4522\u001b[0m \u001b[39melse\u001b[39;00m:\n\u001b[1;32m-> 4523\u001b[0m     marker_obj \u001b[39m=\u001b[39m mmarkers\u001b[39m.\u001b[39;49mMarkerStyle(marker)\n\u001b[0;32m   4525\u001b[0m path \u001b[39m=\u001b[39m marker_obj\u001b[39m.\u001b[39mget_path()\u001b[39m.\u001b[39mtransformed(\n\u001b[0;32m   4526\u001b[0m     marker_obj\u001b[39m.\u001b[39mget_transform())\n\u001b[0;32m   4527\u001b[0m \u001b[39mif\u001b[39;00m \u001b[39mnot\u001b[39;00m marker_obj\u001b[39m.\u001b[39mis_filled():\n",
      "File \u001b[1;32mc:\\Users\\zmath\\AppData\\Local\\Programs\\Python\\Python39\\lib\\site-packages\\matplotlib\\markers.py:236\u001b[0m, in \u001b[0;36mMarkerStyle.__init__\u001b[1;34m(self, marker, fillstyle)\u001b[0m\n\u001b[0;32m    234\u001b[0m \u001b[39mself\u001b[39m\u001b[39m.\u001b[39m_marker_function \u001b[39m=\u001b[39m \u001b[39mNone\u001b[39;00m\n\u001b[0;32m    235\u001b[0m \u001b[39mself\u001b[39m\u001b[39m.\u001b[39m_set_fillstyle(fillstyle)\n\u001b[1;32m--> 236\u001b[0m \u001b[39mself\u001b[39;49m\u001b[39m.\u001b[39;49m_set_marker(marker)\n",
      "File \u001b[1;32mc:\\Users\\zmath\\AppData\\Local\\Programs\\Python\\Python39\\lib\\site-packages\\matplotlib\\markers.py:330\u001b[0m, in \u001b[0;36mMarkerStyle._set_marker\u001b[1;34m(self, marker)\u001b[0m\n\u001b[0;32m    328\u001b[0m         \u001b[39mself\u001b[39m\u001b[39m.\u001b[39m_marker_function \u001b[39m=\u001b[39m \u001b[39mself\u001b[39m\u001b[39m.\u001b[39m_set_vertices\n\u001b[0;32m    329\u001b[0m     \u001b[39mexcept\u001b[39;00m \u001b[39mValueError\u001b[39;00m \u001b[39mas\u001b[39;00m err:\n\u001b[1;32m--> 330\u001b[0m         \u001b[39mraise\u001b[39;00m \u001b[39mValueError\u001b[39;00m(\u001b[39m'\u001b[39m\u001b[39mUnrecognized marker style \u001b[39m\u001b[39m{!r}\u001b[39;00m\u001b[39m'\u001b[39m\n\u001b[0;32m    331\u001b[0m                          \u001b[39m.\u001b[39mformat(marker)) \u001b[39mfrom\u001b[39;00m \u001b[39merr\u001b[39;00m\n\u001b[0;32m    333\u001b[0m \u001b[39mif\u001b[39;00m \u001b[39mnot\u001b[39;00m \u001b[39misinstance\u001b[39m(marker, MarkerStyle):\n\u001b[0;32m    334\u001b[0m     \u001b[39mself\u001b[39m\u001b[39m.\u001b[39m_marker \u001b[39m=\u001b[39m marker\n",
      "\u001b[1;31mValueError\u001b[0m: Unrecognized marker style (0.8654740331016144, 1.1102230246251565e-16)"
     ]
    },
    {
     "data": {
      "image/png": "[encoded data removed]",
      "text/plain": [
       "<Figure size 640x480 with 1 Axes>"
      ]
     },
     "metadata": {},
     "output_type": "display_data"
    }
   ],
   "source": [
    "import matplotlib.pyplot as plt\n",
    "plt.scatter(*pontos)"
   ]
  }
 ],
 "metadata": {
  "kernelspec": {
   "display_name": "Python 3",
   "language": "python",
   "name": "python3"
  },
  "language_info": {
   "codemirror_mode": {
    "name": "ipython",
    "version": 3
   },
   "file_extension": ".py",
   "mimetype": "text/x-python",
   "name": "python",
   "nbconvert_exporter": "python",
   "pygments_lexer": "ipython3",
   "version": "3.9.4"
  },
  "orig_nbformat": 4,
  "vscode": {
   "interpreter": {
    "hash": "e1918bd93cc39801e4334a65862be14bcd4da945439f7014ee372d47ccba175c"
   }
  }
 },
 "nbformat": 4,
 "nbformat_minor": 2
}
