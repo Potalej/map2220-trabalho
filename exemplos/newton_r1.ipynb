{
 "cells": [
  {
   "attachments": {},
   "cell_type": "markdown",
   "metadata": {},
   "source": [
    "# **Exemplo: Método de Newton em R**\n",
    "\n",
    "Aqui consta um exemplo de aplicação do Método de Newton para encontrar a raiz de uma função $f: \\mathbb{R} \\rightarrow \\mathbb{R}$ não linear, que no caso é \n",
    "$$\n",
    "  f(x) = \\cos(x) - x^3\n",
    "$$\n",
    "\n",
    "Uma interpretação equivalente é resolver a equação não linear\n",
    "$$\n",
    "  \\cos(x) = x^3\n",
    "$$\n",
    "\n",
    "Partiremos do ponto inicial $p^{(0)} = 3/4$, e usaremos as versões analíticas das derivações de $f$. Sabemos também que a solução é algo próximo de 0.86547403310161444662."
   ]
  },
  {
   "cell_type": "code",
   "execution_count": 29,
   "metadata": {},
   "outputs": [],
   "source": [
    "from math import sin, cos\n",
    "\n",
    "f   = lambda x: cos(x) - x**3     #   f(x)\n",
    "f_  = lambda x: -sin(x) - 3*x**2  #  f'(x)\n",
    "f__ = lambda x: -cos(x) - 6*x     # f''(x)\n",
    "\n",
    "p0 = 3/4\n",
    "sol = 0.86547403310161444662"
   ]
  },
  {
   "attachments": {},
   "cell_type": "markdown",
   "metadata": {},
   "source": [
    "O Método de Newton para funções de uma única variável consiste no seguinte:\n",
    "$$\n",
    "  p^{(i+1)} = p^{(i)} - \\dfrac{f(p^{(i)})}{f'(p^{(i)})}\n",
    "$$"
   ]
  },
  {
   "cell_type": "code",
   "execution_count": 30,
   "metadata": {},
   "outputs": [],
   "source": [
    "def newton (p0, f, f_p0): return p0 - f(p0)/f_p0"
   ]
  },
  {
   "attachments": {},
   "cell_type": "markdown",
   "metadata": {},
   "source": [
    "É importante também medirmos o erro real e o erro estimado para verificar a teoria de convergência quadrática.\n",
    "\n",
    "Primeiramente, podemos ver que a condição $M | e_0 | < 1$. Para isso, considere que estamos pensando no intervalo $(0.5,1)$ e que, então, já que tomamos $p^{(0)} = 3/4$, no pior dos casos $e_0 = 1/4$. Assim:"
   ]
  },
  {
   "cell_type": "code",
   "execution_count": 31,
   "metadata": {},
   "outputs": [
    {
     "name": "stdout",
     "output_type": "stream",
     "text": [
      "0.6649754397990529\n"
     ]
    }
   ],
   "source": [
    "e_0 = 1/4\n",
    "M = abs(f__(1))/(2*abs(f_(.5)))\n",
    "print(M * abs(e_0))"
   ]
  },
  {
   "attachments": {},
   "cell_type": "markdown",
   "metadata": {},
   "source": [
    "Então está garantido $M | e_0 | < 1$. Podemos ir aos erros."
   ]
  },
  {
   "cell_type": "code",
   "execution_count": 32,
   "metadata": {},
   "outputs": [
    {
     "name": "stdout",
     "output_type": "stream",
     "text": [
      "   n |    absoluto |   estimativa\n",
      "-----+-------------+--------------\n",
      "   0 | 0.0152966   |  0.166244\n",
      "   1 | 0.000222566 |  0.0735118\n",
      "   2 | 4.80725e-08 |  0.0143741\n",
      "   3 | 2.33147e-15 |  0.000549571\n",
      "   4 | 0           |  8.03367e-07\n"
     ]
    }
   ],
   "source": [
    "e_n = e_0\n",
    "erro_absoluto, erro_estimado = [], []\n",
    "x0 = p0\n",
    "pontos=[]\n",
    "for i in range(5):\n",
    "  # aplica o método\n",
    "  p0 = newton(p0, f, f_(p0))\n",
    "  pontos.append([p0,f(p0)])\n",
    "\n",
    "  # erro absoluto\n",
    "  erro_absoluto.append(abs(sol - p0))\n",
    "\n",
    "  # erro estimado\n",
    "  erro_estimado.append(M * e_n**2)\n",
    "  e_n = erro_estimado[-1]\n",
    "\n",
    "from auxiliares.exibir import exibir\n",
    "\n",
    "tabela = exibir(['n', 'absoluto', 'estimativa'], [\n",
    "  [i for i in range(len(erro_absoluto))],\n",
    "  erro_absoluto,\n",
    "  erro_estimado\n",
    "])"
   ]
  }
 ],
 "metadata": {
  "kernelspec": {
   "display_name": "Python 3",
   "language": "python",
   "name": "python3"
  },
  "language_info": {
   "codemirror_mode": {
    "name": "ipython",
    "version": 3
   },
   "file_extension": ".py",
   "mimetype": "text/x-python",
   "name": "python",
   "nbconvert_exporter": "python",
   "pygments_lexer": "ipython3",
   "version": "3.9.4"
  },
  "orig_nbformat": 4,
  "vscode": {
   "interpreter": {
    "hash": "e1918bd93cc39801e4334a65862be14bcd4da945439f7014ee372d47ccba175c"
   }
  }
 },
 "nbformat": 4,
 "nbformat_minor": 2
}
