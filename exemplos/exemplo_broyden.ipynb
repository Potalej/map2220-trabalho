{
 "cells": [
  {
   "attachments": {},
   "cell_type": "markdown",
   "metadata": {},
   "source": [
    "# **Exemplo: Método de Broyden**\n",
    "\n",
    "O Método de Broyden parte de uma generalização do método da secante e permite resolver sistemas de equações não-lineares sem a necessidade de se calcular a matriz Jacobiana a cada iteração. Neste exemplo resolveremos o sistema:\n",
    "$$\n",
    "\\begin{cases}\n",
    "  3 x - \\cos{(y z)} - 1/2 = 0 \\\\\n",
    "  x^2 - 81 (y + 0.1)^2 + \\sin{z} + 1.06 = 0 \\\\\n",
    "  e^{-x y} + 20 z + \\dfrac{10 \\pi - 3}{3} = 0\n",
    "\\end{cases}\n",
    "$$\n",
    "e partiremos novamente do ponto $p^{(0)} = (0,0,0)^t$."
   ]
  },
  {
   "cell_type": "code",
   "execution_count": 1,
   "metadata": {},
   "outputs": [],
   "source": [
    "from math import sin, cos, exp, pi\n",
    "from metodo_broyden import Broyden\n",
    "from numpy import float64\n",
    "\n",
    "f1 = lambda x1, x2, x3: 3*x1-cos(x2*x3)-0.5\n",
    "f2 = lambda x1, x2, x3: x1**2 - 81*(x2+0.1)**2+sin(x3)+1.06\n",
    "f3 = lambda x1, x2, x3: exp(-x1*x2)+20*x3+(10*pi-3)/3\n",
    "\n",
    "F = [f1, f2, f3]\n",
    "p0 = [float64(0),float64(0),float64(0)]\n",
    "\n",
    "sol = [0.5, 0, -0.5235988]"
   ]
  },
  {
   "attachments": {},
   "cell_type": "markdown",
   "metadata": {},
   "source": [
    "Usaremos a forma analítica da matriz Jacobiana num primeiro momento:"
   ]
  },
  {
   "cell_type": "code",
   "execution_count": 2,
   "metadata": {},
   "outputs": [],
   "source": [
    "J = [\n",
    "  [lambda x1, x2, x3: 3,               lambda x1, x2, x3: x3*sin(x2*x3),   lambda x1, x2, x3: x2*sin(x2*x3)],\n",
    "  [lambda x1, x2, x3: 2*x1,            lambda x1, x2, x3: -162*(x2+0.1),   lambda x1, x2, x3: cos(x3)      ],\n",
    "  [lambda x1, x2, x3: -x2*exp(-x1*x2), lambda x1, x2, x3: -x1*exp(-x1*x2), lambda x1, x2, x3: 20           ]\n",
    "]"
   ]
  },
  {
   "cell_type": "code",
   "execution_count": 3,
   "metadata": {},
   "outputs": [],
   "source": [
    "broyden = Broyden(F)\n",
    "p1, info = broyden.aplicar(p0, J, qntd_exata_passos=6, solucao_exata=sol)"
   ]
  },
  {
   "attachments": {},
   "cell_type": "markdown",
   "metadata": {},
   "source": [
    "Obtemos:"
   ]
  },
  {
   "cell_type": "code",
   "execution_count": 4,
   "metadata": {},
   "outputs": [
    {
     "name": "stdout",
     "output_type": "stream",
     "text": [
      "   n |   ||y||_inf |   ||p-p_k||_inf\n",
      "-----+-------------+-----------------\n",
      "   1 | 0.724183    |     0.723986\n",
      "   2 | 0.015441    |     0.0168888\n",
      "   3 | 0.00163996  |     0.00151428\n",
      "   4 | 0.000131573 |     0.000129644\n",
      "   5 | 1.92824e-06 |     1.92905e-06\n"
     ]
    }
   ],
   "source": [
    "from auxiliares.exibir import exibir\n",
    "tabela = exibir([\"n\", \"||y||_inf\", \"||p-p_k||_inf\"], [[i+1 for i in range(len(info[\"ponto\"]))], info[\"erro\"], info[\"erro real\"]])"
   ]
  },
  {
   "attachments": {},
   "cell_type": "markdown",
   "metadata": {},
   "source": [
    "Obtendo a solução:"
   ]
  },
  {
   "cell_type": "code",
   "execution_count": 5,
   "metadata": {},
   "outputs": [
    {
     "name": "stdout",
     "output_type": "stream",
     "text": [
      "[[ 5.00000000e-01]\n",
      " [-1.39365972e-09]\n",
      " [-5.23598776e-01]]\n"
     ]
    }
   ],
   "source": [
    "print(p1)"
   ]
  },
  {
   "attachments": {},
   "cell_type": "markdown",
   "metadata": {},
   "source": [
    "Podemos também usar a diferenciação numérica, com diferenças centradas, obtendo um resultado parecido:"
   ]
  },
  {
   "cell_type": "code",
   "execution_count": 6,
   "metadata": {},
   "outputs": [
    {
     "name": "stdout",
     "output_type": "stream",
     "text": [
      "   n |   ||y||_inf |   ||p-p_k||_inf\n",
      "-----+-------------+-----------------\n",
      "   1 | 0.724183    |     0.723986\n",
      "   2 | 0.015441    |     0.0168888\n",
      "   3 | 0.00163996  |     0.00151428\n",
      "   4 | 0.000131573 |     0.000129644\n",
      "   5 | 1.92824e-06 |     1.92905e-06\n"
     ]
    }
   ],
   "source": [
    "from auxiliares.diferencasFinitas import DiferencasFinitas\n",
    "\n",
    "diferencas_centradas = DiferencasFinitas(h=1e-4).centradas\n",
    "broyden = Broyden(F, metodo_diferenciacao=diferencas_centradas, h=1e-4)\n",
    "\n",
    "ps, info = broyden.aplicar(p0, qntd_exata_passos=6, solucao_exata=sol)\n",
    "tabela = exibir(\n",
    "  [\"n\", \"||y||_inf\", \"||p-p_k||_inf\"], \n",
    "  [[i+1 for i in range(len(info[\"ponto\"]))], info[\"erro\"], info[\"erro real\"]]\n",
    ")"
   ]
  }
 ],
 "metadata": {
  "kernelspec": {
   "display_name": "Python 3",
   "language": "python",
   "name": "python3"
  },
  "language_info": {
   "codemirror_mode": {
    "name": "ipython",
    "version": 3
   },
   "file_extension": ".py",
   "mimetype": "text/x-python",
   "name": "python",
   "nbconvert_exporter": "python",
   "pygments_lexer": "ipython3",
   "version": "3.9.4"
  },
  "orig_nbformat": 4,
  "vscode": {
   "interpreter": {
    "hash": "e1918bd93cc39801e4334a65862be14bcd4da945439f7014ee372d47ccba175c"
   }
  }
 },
 "nbformat": 4,
 "nbformat_minor": 2
}
