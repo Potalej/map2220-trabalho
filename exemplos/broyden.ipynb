{
 "cells": [
  {
   "attachments": {},
   "cell_type": "markdown",
   "metadata": {},
   "source": [
    "#**Exemplo: Método de Broyden**\n",
    "\n",
    "Para averiguar a teoria sobre o Método de Broyden, vou usar o mesmo exemplo do método de Newton ofercido por Mirshawka na página 238:\n",
    "$$\n",
    "\\begin{cases}\n",
    "  f(x,y) = 2x^3 - y^2 - 1 = 0\n",
    "  \\\\\n",
    "  g(x,y) = xy^3 - y - 4 = 0\n",
    "\\end{cases}\n",
    "$$\n",
    "\n",
    "Começaremos com o ponto $p^{(0)}=(x_0,y_0)=(1.2,1.7)$."
   ]
  },
  {
   "cell_type": "code",
   "execution_count": 16,
   "metadata": {},
   "outputs": [],
   "source": [
    "from metodo_broyden import Broyden\n",
    "f = lambda x,y: 2*x**3 - y**2 - 1\n",
    "g = lambda x,y: x*y**3 - y - 4\n",
    "F = [f,g]\n",
    "\n",
    "p0 = [1.2, 1.7]"
   ]
  },
  {
   "attachments": {},
   "cell_type": "markdown",
   "metadata": {},
   "source": [
    "Usando a forma analítica da Jacobiana:"
   ]
  },
  {
   "cell_type": "code",
   "execution_count": 17,
   "metadata": {},
   "outputs": [],
   "source": [
    "Jac = [\n",
    "  [lambda x,y: 6*x**2, lambda x,y: -2*y],\n",
    "  [lambda x,y: y**3, lambda x,y: 3*x*y**2-1]\n",
    "]"
   ]
  },
  {
   "attachments": {},
   "cell_type": "markdown",
   "metadata": {},
   "source": [
    "Sabemos a solução:"
   ]
  },
  {
   "cell_type": "code",
   "execution_count": 18,
   "metadata": {},
   "outputs": [],
   "source": [
    "sol = [1.2342744841145, 1.6615264667959]"
   ]
  },
  {
   "cell_type": "code",
   "execution_count": 19,
   "metadata": {},
   "outputs": [
    {
     "name": "stdout",
     "output_type": "stream",
     "text": [
      "Causa da parada: quantidade exata de passos atingida\n",
      "[[1.2]\n",
      " [1.7]]\n"
     ]
    }
   ],
   "source": [
    "broyden = Broyden(F)\n",
    "\n",
    "p_estimado, info = broyden.aplicar(p0, Jac, qntd_exata_passos=1, solucao_exata=sol)\n",
    "\n",
    "print(p_estimado)"
   ]
  },
  {
   "attachments": {},
   "cell_type": "markdown",
   "metadata": {},
   "source": [
    "Iterando algumas vezes seguidas:"
   ]
  },
  {
   "cell_type": "code",
   "execution_count": 20,
   "metadata": {},
   "outputs": [
    {
     "name": "stdout",
     "output_type": "stream",
     "text": [
      "Causa da parada: quantidade exata de passos atingida\n",
      "   n |   ||y||_inf |   ||p-p_k||_inf | taxa\n",
      "-----+-------------+-----------------+----------------------\n",
      "   1 | 0.0390203   |     0.0515262   | -\n",
      "   2 | 0.000613655 |     0.000813089 | 0.01578008913317223\n",
      "   3 | 1.26891e-05 |     1.74355e-05 | 0.021443557164281705\n",
      "   4 | 7.54138e-08 |     8.65366e-08 | 0.004963235905916925\n",
      "   5 | 1.15145e-09 |     1.28882e-09 | 0.014893402684427352\n",
      "   6 | 1.3841e-12  |     1.58844e-12 | 0.001232469920944028\n"
     ]
    }
   ],
   "source": [
    "p_estimado, info = broyden.aplicar(p0, Jac, qntd_exata_passos=6, solucao_exata=sol)\n",
    "\n",
    "from auxiliares.exibir import exibir\n",
    "\n",
    "real = info[\"erro real\"]\n",
    "taxa = [real[i+1]/real[i] for i in range(len(real)-1)]\n",
    "\n",
    "tabela = exibir(\n",
    "  [\"n\", \"||y||_inf\", \"||p-p_k||_inf\", \"taxa\"], \n",
    "  [[i+1 for i in range(6)], info[\"erro\"], info[\"erro real\"], ['-']+taxa]\n",
    ")"
   ]
  },
  {
   "attachments": {},
   "cell_type": "markdown",
   "metadata": {},
   "source": [
    "Além disso, podemos usar também um Jacobiano numérico no lugar de um exato. Nesse caso, iremos usar as diferenças progressivas, com $h=1e-4$ arbitrariamente."
   ]
  },
  {
   "cell_type": "code",
   "execution_count": 21,
   "metadata": {},
   "outputs": [
    {
     "name": "stdout",
     "output_type": "stream",
     "text": [
      "Causa da parada: quantidade exata de passos atingida\n",
      "   n |   ||y||_inf |   ||p-p_k||_inf | taxa\n",
      "-----+-------------+-----------------+-----------------------\n",
      "   1 | 0.0390168   |     0.0515262   | -\n",
      "   2 | 0.000611672 |     0.000809247 | 0.015705528933280834\n",
      "   3 | 1.26951e-05 |     1.74236e-05 | 0.021530686159487288\n",
      "   4 | 7.79529e-08 |     8.93641e-08 | 0.0051288995997211505\n",
      "   5 | 1.19052e-09 |     1.33173e-09 | 0.014902315703115745\n",
      "   6 | 1.38429e-12 |     1.58784e-12 | 0.0011923083671704438\n"
     ]
    }
   ],
   "source": [
    "from auxiliares.diferencasFinitas import DiferencasFinitas\n",
    "\n",
    "diferencas_progressivas = DiferencasFinitas(h=1e-4).progressivas\n",
    "broyden = Broyden(F, metodo_diferenciacao=diferencas_progressivas, h=1e-4)\n",
    "\n",
    "p_estimado, info = broyden.aplicar(p0, qntd_exata_passos=6, solucao_exata=sol)\n",
    "\n",
    "real = info[\"erro real\"]\n",
    "taxa = [real[i+1]/real[i] for i in range(len(real)-1)]\n",
    "\n",
    "tabela = exibir(\n",
    "  [\"n\", \"||y||_inf\", \"||p-p_k||_inf\", \"taxa\"], \n",
    "  [[i+1 for i in range(6)], info[\"erro\"], info[\"erro real\"], ['-']+taxa]\n",
    ")"
   ]
  }
 ],
 "metadata": {
  "kernelspec": {
   "display_name": "Python 3",
   "language": "python",
   "name": "python3"
  },
  "language_info": {
   "codemirror_mode": {
    "name": "ipython",
    "version": 3
   },
   "file_extension": ".py",
   "mimetype": "text/x-python",
   "name": "python",
   "nbconvert_exporter": "python",
   "pygments_lexer": "ipython3",
   "version": "3.9.4"
  },
  "orig_nbformat": 4,
  "vscode": {
   "interpreter": {
    "hash": "e1918bd93cc39801e4334a65862be14bcd4da945439f7014ee372d47ccba175c"
   }
  }
 },
 "nbformat": 4,
 "nbformat_minor": 2
}
