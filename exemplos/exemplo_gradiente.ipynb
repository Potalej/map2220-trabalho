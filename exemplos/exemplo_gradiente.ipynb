{
 "cells": [
  {
   "attachments": {},
   "cell_type": "markdown",
   "metadata": {},
   "source": [
    "# **Exemplo: Método do Gradiente**\n",
    "\n",
    "Para exemplificar o uso do Método do Gradiente, vamos tomar o seguinte sistema de equações:\n",
    "$$\n",
    "\\begin{cases}\n",
    "  3 x - \\cos{(y z)} - 1/2 = 0 \\\\\n",
    "  x^2 - 81 (y + 0.1)^2 + \\sin{z} + 1.06 = 0 \\\\\n",
    "  e^{-x y} + 20 z + \\dfrac{10 \\pi - 3}{3} = 0\n",
    "\\end{cases}\n",
    "$$\n",
    "\n",
    "Partiremos do ponto $p^{(0)} = (0, 0, 0)^t$."
   ]
  },
  {
   "cell_type": "code",
   "execution_count": 1,
   "metadata": {},
   "outputs": [],
   "source": [
    "from metodo_gradiente import Gradiente\n",
    "from math import sin, cos, exp, pi\n",
    "\n",
    "f1 = lambda x, y, z: 3*x-cos(y*z)-0.5\n",
    "f2 = lambda x, y, z: x**2 - 81*(y+0.1)**2+sin(z)+1.06\n",
    "f3 = lambda x, y, z: exp(-x*y)+20*z+(10*pi-3)/3\n",
    "\n",
    "F = [f1,f2,f3]\n",
    "\n",
    "p0 = [0,0,0]"
   ]
  },
  {
   "attachments": {},
   "cell_type": "markdown",
   "metadata": {},
   "source": [
    "Usaremos também a forma analítica da matriz Jacobiana:"
   ]
  },
  {
   "cell_type": "code",
   "execution_count": 2,
   "metadata": {},
   "outputs": [],
   "source": [
    "J = [\n",
    "  [ lambda x, y, z: 3,             lambda x, y, z: z*sin(y*z),    lambda x, y, z: y*sin(y*z) ],\n",
    "  [ lambda x, y, z: 2*x,           lambda x, y, z: -162*(y+0.1),  lambda x, y, z: cos(z)     ],\n",
    "  [ lambda x, y, z: -y*exp(-x*y),  lambda x, y, z: -x*exp(-x*y),  lambda x, y, z: 20         ]\n",
    "]"
   ]
  },
  {
   "attachments": {},
   "cell_type": "markdown",
   "metadata": {},
   "source": [
    "Precisamos instanciar a classe ```Gradiente``` e aplicar seu método em $p^{(0)}$:"
   ]
  },
  {
   "cell_type": "code",
   "execution_count": 5,
   "metadata": {},
   "outputs": [
    {
     "name": "stdout",
     "output_type": "stream",
     "text": [
      "[[ 0.01121817]\n",
      " [ 0.01009636]\n",
      " [-0.52274077]]\n"
     ]
    }
   ],
   "source": [
    "metodoGradiente = Gradiente(F)\n",
    "p1 = metodoGradiente.aplicar(p0, J, 1)[0]\n",
    "print(p1)"
   ]
  },
  {
   "attachments": {},
   "cell_type": "markdown",
   "metadata": {},
   "source": [
    "Podemos aplicar novamente o método para obter valores mais precisos, já que é tido que a solução é $(0.5, 0, -0.5235988)^t$."
   ]
  },
  {
   "cell_type": "code",
   "execution_count": 6,
   "metadata": {},
   "outputs": [
    {
     "name": "stdout",
     "output_type": "stream",
     "text": [
      "   k |       x1 |          x2 |        x3 |   g(x1,x2,x3)\n",
      "-----+----------+-------------+-----------+---------------\n",
      "   2 | 0.13786  | -0.205453   | -0.522059 |      1.27406\n",
      "   3 | 0.266959 |  0.00551102 | -0.558494 |      1.06813\n",
      "   4 | 0.272734 | -0.00811751 | -0.522006 |      0.468309\n",
      "   5 | 0.308689 | -0.0204026  | -0.533112 |      0.381087\n",
      "   6 | 0.314308 | -0.0147046  | -0.520923 |      0.318837\n",
      "   7 | 0.324267 | -0.00852549 | -0.528431 |      0.287024\n"
     ]
    }
   ],
   "source": [
    "from auxiliares.exibir import exibir\n",
    "\n",
    "ps = metodoGradiente.aplicar(p1, J, 6)\n",
    "\n",
    "tabela = exibir(\n",
    "  [\"k\", \"x1\", \"x2\", \"x3\", \"g(x1,x2,x3)\"],\n",
    "  [\n",
    "    [i+2 for i in range(len(ps))],\n",
    "    [ps[i][0] for i in range(len(ps))],\n",
    "    [ps[i][1] for i in range(len(ps))],\n",
    "    [ps[i][2] for i in range(len(ps))],\n",
    "    [metodoGradiente.g(p) for p in ps]\n",
    "  ]\n",
    ")"
   ]
  },
  {
   "attachments": {},
   "cell_type": "markdown",
   "metadata": {},
   "source": [
    "Podemos, no lugar de usar a forma analítica da Jacobiana, tentar aproximá-la via diferenças finitas. Digamos que pelo método de diferenças centradas com $h=1e-4$."
   ]
  },
  {
   "cell_type": "code",
   "execution_count": 5,
   "metadata": {},
   "outputs": [
    {
     "name": "stdout",
     "output_type": "stream",
     "text": [
      "   k |       x1 |          x2 |        x3 |   g(x1,x2,x3)\n",
      "-----+----------+-------------+-----------+---------------\n",
      "   2 | 0.13786  | -0.205453   | -0.522059 |      1.27406\n",
      "   3 | 0.266958 |  0.00551147 | -0.558494 |      1.06813\n",
      "   4 | 0.272733 | -0.00811751 | -0.522006 |      0.468313\n",
      "   5 | 0.308687 | -0.0204024  | -0.533112 |      0.381093\n",
      "   6 | 0.314306 | -0.0147046  | -0.520923 |      0.318844\n",
      "   7 | 0.324265 | -0.00852558 | -0.528431 |      0.28703\n"
     ]
    }
   ],
   "source": [
    "from auxiliares.diferencasFinitas import DiferencasFinitas\n",
    "\n",
    "diferencas_centradas = DiferencasFinitas(h=1e-4).centradas\n",
    "metodoGradiente = Gradiente(F, metodo_diferenciacao=diferencas_centradas, h=1e-4)\n",
    "\n",
    "ps = metodoGradiente.aplicar(p1, qntd_passos=6)\n",
    "\n",
    "tabela = exibir(\n",
    "  [\"k\", \"x1\", \"x2\", \"x3\", \"g(x1,x2,x3)\"],\n",
    "  [\n",
    "    [i+2 for i in range(len(ps))],\n",
    "    [ps[i][0] for i in range(len(ps))],\n",
    "    [ps[i][1] for i in range(len(ps))],\n",
    "    [ps[i][2] for i in range(len(ps))],\n",
    "    [metodoGradiente.g(p) for p in ps]\n",
    "  ]\n",
    ")"
   ]
  }
 ],
 "metadata": {
  "kernelspec": {
   "display_name": "Python 3",
   "language": "python",
   "name": "python3"
  },
  "language_info": {
   "codemirror_mode": {
    "name": "ipython",
    "version": 3
   },
   "file_extension": ".py",
   "mimetype": "text/x-python",
   "name": "python",
   "nbconvert_exporter": "python",
   "pygments_lexer": "ipython3",
   "version": "3.9.4"
  },
  "orig_nbformat": 4,
  "vscode": {
   "interpreter": {
    "hash": "e1918bd93cc39801e4334a65862be14bcd4da945439f7014ee372d47ccba175c"
   }
  }
 },
 "nbformat": 4,
 "nbformat_minor": 2
}
