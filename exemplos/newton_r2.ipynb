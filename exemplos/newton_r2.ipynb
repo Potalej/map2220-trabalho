{
 "cells": [
  {
   "attachments": {},
   "cell_type": "markdown",
   "metadata": {},
   "source": [
    "# **Exemplo: Método de Newton Multivariado**\n",
    "\n",
    "Para averiguar a teoria sobre o Método de Newton, vou usar um exemplo dado por Mirshawka na página 238:\n",
    "$$\n",
    "\\begin{cases}\n",
    "  f(x,y) = 2x^3 - y^2 - 1 = 0\n",
    "  \\\\\n",
    "  g(x,y) = xy^3 - y - 4 = 0\n",
    "\\end{cases}\n",
    "$$\n",
    "\n",
    "Começaremos com o ponto $p^{(0)}=(x_0,y_0)=(1.2,1.7)$. Para resolver os sistemas linares utilizaremos o ```numpy.linalg.solve```."
   ]
  },
  {
   "cell_type": "code",
   "execution_count": 18,
   "metadata": {},
   "outputs": [],
   "source": [
    "from metodo_newton import Newton\n",
    "from numpy.linalg import solve"
   ]
  },
  {
   "cell_type": "code",
   "execution_count": 19,
   "metadata": {},
   "outputs": [],
   "source": [
    "f = lambda x,y: 2*x**3 - y**2 - 1\n",
    "g = lambda x,y: x*y**3 - y - 4\n",
    "F = [f,g]\n",
    "\n",
    "p0 = [1.2, 1.7]"
   ]
  },
  {
   "attachments": {},
   "cell_type": "markdown",
   "metadata": {},
   "source": [
    "Usaremos também a forma analítica da Jacobiana:"
   ]
  },
  {
   "cell_type": "code",
   "execution_count": 20,
   "metadata": {},
   "outputs": [],
   "source": [
    "Jac = [\n",
    "  [lambda x,y: 6*x**2, lambda x,y: -2*y],\n",
    "  [lambda x,y: y**3, lambda x,y: 3*x*y**2-1]\n",
    "]"
   ]
  },
  {
   "attachments": {},
   "cell_type": "markdown",
   "metadata": {},
   "source": [
    "Inclusive, sabemos que uma solução precisa é (1.2342744841145, 1.6615264667959)$^t$, então a usaremos para medir o erro absoluto."
   ]
  },
  {
   "cell_type": "code",
   "execution_count": 21,
   "metadata": {},
   "outputs": [],
   "source": [
    "sol = [1.2342744841145, 1.6615264667959]"
   ]
  },
  {
   "cell_type": "code",
   "execution_count": 22,
   "metadata": {},
   "outputs": [
    {
     "name": "stdout",
     "output_type": "stream",
     "text": [
      "Causa da parada: quantidade exata de passos atingida\n",
      "[[1.23487626]\n",
      " [1.66097968]]\n"
     ]
    }
   ],
   "source": [
    "newton = Newton(F, metodo_sistema_linear=solve)\n",
    "\n",
    "p_estimado, info = newton.aplicar(p0, Jac, qntd_exata_passos=1, solucao_exata=sol)\n",
    "\n",
    "print(p_estimado)"
   ]
  },
  {
   "attachments": {},
   "cell_type": "markdown",
   "metadata": {},
   "source": [
    "Dada a solução exata acima, obtemos um excelente resultado. Iteremos mais algumas vezes:"
   ]
  },
  {
   "cell_type": "code",
   "execution_count": 23,
   "metadata": {},
   "outputs": [
    {
     "name": "stdout",
     "output_type": "stream",
     "text": [
      "Causa da parada: quantidade exata de passos atingida\n",
      "   n |   ||y||_inf |   ||p-p_k||_inf | taxa\n",
      "-----+-------------+-----------------+------------------------\n",
      "   1 | 0.0390203   |     0.000601779 | -\n",
      "   2 | 0.000601588 |     1.91209e-07 | 0.03902031917591337\n",
      "   3 | 1.91209e-07 |     1.59872e-14 | 0.0006015879635945571\n",
      "   4 | 1.90212e-14 |     3.37508e-14 | 1.912091666665793e-07\n",
      "   5 | 1.6312e-16  |     3.39728e-14 | 1.9021216107427664e-14\n",
      "   6 | 8.2289e-17  |     3.39728e-14 | 1.631204854837885e-16\n"
     ]
    }
   ],
   "source": [
    "p_estimado, info = newton.aplicar(p0, Jac, qntd_exata_passos=6, solucao_exata=sol)\n",
    "\n",
    "from auxiliares.exibir import exibir\n",
    "\n",
    "real = info[\"erro\"]\n",
    "taxa = [real[i+1]/real[i]**2 for i in range(len(real)-1)]\n",
    "\n",
    "tabela = exibir(\n",
    "  [\"n\", \"||y||_inf\", \"||p-p_k||_inf\", \"taxa\"], \n",
    "  [[i+1 for i in range(6)], info[\"erro\"], info[\"erro real\"], ['-']+real]\n",
    ")"
   ]
  },
  {
   "attachments": {},
   "cell_type": "markdown",
   "metadata": {},
   "source": [
    "Além disso, podemos usar também um Jacobiano numérico no lugar de um exato. Nesse caso, iremos usar as diferenças progressivas, com $h=1e-4$ arbitrariamente."
   ]
  },
  {
   "cell_type": "code",
   "execution_count": 24,
   "metadata": {},
   "outputs": [
    {
     "name": "stdout",
     "output_type": "stream",
     "text": [
      "Causa da parada: quantidade exata de passos atingida\n",
      "   n |   ||y||_inf |   ||p-p_k||_inf | taxa\n",
      "-----+-------------+-----------------+------------------------\n",
      "   1 | 0.0390168   |     0.000599823 | -\n",
      "   2 | 0.000599598 |     2.43712e-07 | 0.039016757863373726\n",
      "   3 | 2.4369e-07  |     2.256e-11   | 0.0005995976985941751\n",
      "   4 | 2.2592e-11  |     3.19744e-14 | 2.4368965188745964e-07\n",
      "   5 | 1.93892e-15 |     3.39728e-14 | 2.2592014304317388e-11\n",
      "   6 | 8.22838e-17 |     3.39728e-14 | 1.93891933294119e-15\n"
     ]
    }
   ],
   "source": [
    "from auxiliares.diferencasFinitas import DiferencasFinitas\n",
    "\n",
    "diferencas_progressivas = DiferencasFinitas(h=1e-4).progressivas\n",
    "newton = Newton(F, metodo_sistema_linear=solve, metodo_diferenciacao=diferencas_progressivas, h=1e-4)\n",
    "\n",
    "p_estimado, info = newton.aplicar(p0, qntd_exata_passos=6, solucao_exata=sol)\n",
    "\n",
    "real = info[\"erro\"]\n",
    "taxa = [real[i+1]/real[i]**2 for i in range(len(real)-1)]\n",
    "\n",
    "tabela = exibir(\n",
    "  [\"n\", \"||y||_inf\", \"||p-p_k||_inf\", \"taxa\"], \n",
    "  [[i+1 for i in range(6)], info[\"erro\"], info[\"erro real\"], ['-']+real]\n",
    ")"
   ]
  }
 ],
 "metadata": {
  "kernelspec": {
   "display_name": "Python 3",
   "language": "python",
   "name": "python3"
  },
  "language_info": {
   "codemirror_mode": {
    "name": "ipython",
    "version": 3
   },
   "file_extension": ".py",
   "mimetype": "text/x-python",
   "name": "python",
   "nbconvert_exporter": "python",
   "pygments_lexer": "ipython3",
   "version": "3.9.4 (tags/v3.9.4:1f2e308, Apr  6 2021, 13:40:21) [MSC v.1928 64 bit (AMD64)]"
  },
  "orig_nbformat": 4,
  "vscode": {
   "interpreter": {
    "hash": "e1918bd93cc39801e4334a65862be14bcd4da945439f7014ee372d47ccba175c"
   }
  }
 },
 "nbformat": 4,
 "nbformat_minor": 2
}
